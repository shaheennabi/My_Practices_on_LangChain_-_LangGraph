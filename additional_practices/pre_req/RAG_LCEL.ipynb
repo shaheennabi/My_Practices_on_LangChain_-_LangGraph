{
 "cells": [
  {
   "cell_type": "code",
   "execution_count": 2,
   "metadata": {},
   "outputs": [
    {
     "data": {
      "text/plain": [
       "True"
      ]
     },
     "execution_count": 2,
     "metadata": {},
     "output_type": "execute_result"
    }
   ],
   "source": [
    "from dotenv import load_dotenv\n",
    "load_dotenv()"
   ]
  },
  {
   "cell_type": "code",
   "execution_count": 3,
   "metadata": {},
   "outputs": [],
   "source": [
    "import os"
   ]
  },
  {
   "cell_type": "code",
   "execution_count": 4,
   "metadata": {},
   "outputs": [],
   "source": [
    "TAVILY_API_KEY = os.getenv(\"TAVILY_API_KEY\")\n",
    "LANGCHAIN_TRACING_V2 = os.getenv(\"LANGCHAIN_TRACING_V2\")\n",
    "LANGCHAIN_ENDPOINT = os.getenv(\"LANGCHAIN_ENDPOINT\")\n",
    "LANGCHAIN_API_KEY = os.getenv(\"LANGCHAIN_API_KEY\")\n",
    "LANGCHAIN_PROJECT = os.getenv(\"LANGCHAIN_PROJECT\")\n",
    "SERPER_API_KEY = os.getenv(\"SERPER_API_KEY\")\n",
    "GEMINI_API_KEY = os.getenv(\"GEMINI_API_KEY\")\n",
    "GROQ_API_KEY = os.getenv(\"GROQ_API_KEY\")\n",
    "HUGGINGFACE_API_KEY = os.getenv(\"HUGGINGFACE_API_KEY\")"
   ]
  },
  {
   "cell_type": "code",
   "execution_count": 5,
   "metadata": {},
   "outputs": [],
   "source": [
    "os.environ[\"TAVILY_API_KEY\"] = TAVILY_API_KEY\n",
    "os.environ[\"LANGCHAIN_TRACING_V2\"] = LANGCHAIN_TRACING_V2\n",
    "os.environ[\"LANGCHAIN_ENDPOINT\"] = LANGCHAIN_ENDPOINT\n",
    "os.environ[\"LANGCHAIN_API_KEY\"] = LANGCHAIN_API_KEY\n",
    "os.environ[\"LANGCHAIN_PROJECT\"] = LANGCHAIN_PROJECT\n",
    "os.environ[\"SERPER_API_KEY\"] = SERPER_API_KEY\n",
    "os.environ[\"GEMINI_API_KEY\"] = GEMINI_API_KEY\n",
    "os.environ[\"GROQ_API_KEY\"] = GROQ_API_KEY\n",
    "os.environ[\"HUGGINGFACE_API_KEY\"] = HUGGINGFACE_API_KEY"
   ]
  },
  {
   "cell_type": "code",
   "execution_count": 6,
   "metadata": {},
   "outputs": [
    {
     "data": {
      "text/plain": [
       "'from langchain_google_genai import GoogleGenerativeAIEmbeddings \\nembeddings = GoogleGenerativeAIEmbeddings(model=\"models/embedding-001\")\\nfrom langchain_google_genai import ChatGoogleGenerativeAI\\nllm  = ChatGoogleGenerativeAI(model =\"gemini-1.0-pro\")'"
      ]
     },
     "execution_count": 6,
     "metadata": {},
     "output_type": "execute_result"
    }
   ],
   "source": [
    "# with google gemini\n",
    "\"\"\"from langchain_google_genai import GoogleGenerativeAIEmbeddings \n",
    "embeddings = GoogleGenerativeAIEmbeddings(model=\"models/embedding-001\")\n",
    "from langchain_google_genai import ChatGoogleGenerativeAI\n",
    "llm  = ChatGoogleGenerativeAI(model =\"gemini-1.0-pro\")\"\"\""
   ]
  },
  {
   "cell_type": "code",
   "execution_count": 7,
   "metadata": {},
   "outputs": [
    {
     "name": "stderr",
     "output_type": "stream",
     "text": [
      "c:\\Users\\mailm\\Documents\\langgraph-end-to-end\\venv\\lib\\site-packages\\tqdm\\auto.py:21: TqdmWarning: IProgress not found. Please update jupyter and ipywidgets. See https://ipywidgets.readthedocs.io/en/stable/user_install.html\n",
      "  from .autonotebook import tqdm as notebook_tqdm\n"
     ]
    }
   ],
   "source": [
    "from langchain_huggingface import HuggingFaceEmbeddings\n",
    "embeddings = HuggingFaceEmbeddings(model_name=\"all-MiniLM-L6-v2\")\n",
    "from langchain_groq import ChatGroq\n",
    "llm=ChatGroq(model_name=\"Gemma2-9b-It\")"
   ]
  },
  {
   "cell_type": "markdown",
   "metadata": {},
   "source": [
    "## Simple AI Assistant"
   ]
  },
  {
   "cell_type": "code",
   "execution_count": 8,
   "metadata": {},
   "outputs": [
    {
     "name": "stdout",
     "output_type": "stream",
     "text": [
      "Hello! 👋  How can I help you today?\n",
      "\n",
      "Imagine you're teaching a dog a new trick. \n",
      "\n",
      "You show the dog what to do, reward it when it gets close, and correct it when it makes a mistake. Over time, the dog learns the trick by recognizing patterns and understanding what gets it rewarded.\n",
      "\n",
      "Machine learning is similar! \n",
      "\n",
      "Instead of a dog, we have a computer program. Instead of tricks, we have tasks like recognizing pictures, understanding language, or predicting the weather.\n",
      "\n",
      "We \"train\" the program by giving it lots of data (like showing the dog examples of the trick). The program learns from this data, finding patterns and relationships, and gets better at the task over time. \n",
      "\n",
      "The more data it sees, the better it gets! \n",
      "\n",
      "It's like the computer is learning on its own, without being explicitly programmed for every single scenario.\n",
      "\n",
      "SpaceX is a private American aerospace manufacturer and space transportation services company founded by Elon Musk in 2002. \n",
      "\n",
      "Here are some key things to know about SpaceX:\n",
      "\n",
      "**Mission:** To revolutionize space technology, with the ultimate goal of enabling humans to live on other planets, starting with Mars.\n",
      "\n",
      "**Achievements:**\n",
      "\n",
      "* **Reusable Rockets:** SpaceX developed the Falcon 9 and Falcon Heavy rockets, both of which are partially reusable, significantly reducing the cost of space travel.\n",
      "* **Dragon Spacecraft:** SpaceX built the Dragon spacecraft, which is capable of transporting cargo and astronauts to and from the International Space Station (ISS).\n",
      "* **Starlink Satellite Constellation:** SpaceX is launching thousands of Starlink satellites into orbit to provide global broadband internet access.\n",
      "* **Private Astronauts to ISS:** SpaceX has launched several private citizen missions to the ISS.\n",
      "* **Starship Development:** SpaceX is developing Starship, a fully reusable spacecraft designed for deep-space missions, including Mars.\n",
      "\n",
      "**Impact:**\n",
      "\n",
      "* **Lowering Spaceflight Costs:** SpaceX's reusable rockets have dramatically reduced the cost of accessing space, opening up opportunities for more companies and countries to participate.\n",
      "* **Advancing Space Exploration:** SpaceX is pushing the boundaries of space exploration with its ambitious goals and innovative technologies.\n",
      "* **Inspiring the Next Generation:** SpaceX's achievements have inspired a new generation of scientists, engineers, and dreamers.\n",
      "\n",
      "**Future Plans:**\n",
      "\n",
      "* **Mars Colonization:** SpaceX aims to send humans to Mars in the 2020s and establish a permanent colony there.\n",
      "* **Lunar Exploration:** SpaceX is developing Starship for lunar missions, including the NASA's Artemis program.\n",
      "* **Interplanetary Travel:** SpaceX envisions a future where Starship enables regular travel to other planets in our solar system.\n",
      "\n",
      "\n",
      "SpaceX is a company that is constantly innovating and pushing the boundaries of what's possible in space. It is playing a vital role in shaping the future of space exploration and commercial spaceflight.\n",
      "\n",
      "goodby take care of yourself\n"
     ]
    }
   ],
   "source": [
    "while True:\n",
    "    question=input(\"type you question. If you want to quit the chat write quit \")\n",
    "    if question !=\"quit\":\n",
    "        print(llm.invoke(question).content)\n",
    "    else:\n",
    "        print(\"goodbye take care of yourself\")\n",
    "        break \n"
   ]
  },
  {
   "cell_type": "code",
   "execution_count": 9,
   "metadata": {},
   "outputs": [],
   "source": [
    "from langchain_core.chat_history import BaseChatMessageHistory\n",
    "from langchain_core.chat_history  import InMemoryChatMessageHistory\n",
    "from langchain_core.runnables.history import RunnableWithMessageHistory\n",
    "from langchain_core.messages import AIMessage\n"
   ]
  },
  {
   "cell_type": "code",
   "execution_count": 11,
   "metadata": {},
   "outputs": [],
   "source": [
    "store = {}"
   ]
  },
  {
   "cell_type": "code",
   "execution_count": 12,
   "metadata": {},
   "outputs": [],
   "source": [
    "def get_session_history(session_id: str) -> BaseChatMessageHistory:\n",
    "    if session_id not in store:\n",
    "        store[session_id] = InMemoryChatMessageHistory()\n",
    "    return store[session_id]\n"
   ]
  },
  {
   "cell_type": "code",
   "execution_count": 13,
   "metadata": {},
   "outputs": [],
   "source": [
    "config = {\"configurable\": {\"session_id\": \"firstchat\"}}"
   ]
  },
  {
   "cell_type": "code",
   "execution_count": 14,
   "metadata": {},
   "outputs": [],
   "source": [
    "model_with_memory= RunnableWithMessageHistory(llm, get_session_history)"
   ]
  },
  {
   "cell_type": "code",
   "execution_count": 15,
   "metadata": {},
   "outputs": [
    {
     "data": {
      "text/plain": [
       "\"Hi Bob! 👋\\n\\nIt's nice to meet you. What can I do for you today? 😊\\n\""
      ]
     },
     "execution_count": 15,
     "metadata": {},
     "output_type": "execute_result"
    }
   ],
   "source": [
    "model_with_memory.invoke((\"Hi! I'm bob\"), config=config).content"
   ]
  },
  {
   "cell_type": "code",
   "execution_count": 16,
   "metadata": {},
   "outputs": [
    {
     "data": {
      "text/plain": [
       "'Your name is Bob!  You told me at the beginning. 😊 \\n'"
      ]
     },
     "execution_count": 16,
     "metadata": {},
     "output_type": "execute_result"
    }
   ],
   "source": [
    "model_with_memory.invoke((\"tell me what is my name?\"), config = config).content"
   ]
  },
  {
   "cell_type": "code",
   "execution_count": 17,
   "metadata": {},
   "outputs": [
    {
     "data": {
      "text/plain": [
       "{'firstchat': InMemoryChatMessageHistory(messages=[HumanMessage(content=\"Hi! I'm bob\", additional_kwargs={}, response_metadata={}), AIMessage(content=\"Hi Bob! 👋\\n\\nIt's nice to meet you. What can I do for you today? 😊\\n\", additional_kwargs={}, response_metadata={'token_usage': {'completion_tokens': 25, 'prompt_tokens': 15, 'total_tokens': 40, 'completion_time': 0.045454545, 'prompt_time': 8.977e-05, 'queue_time': 0.022567728000000002, 'total_time': 0.045544315}, 'model_name': 'Gemma2-9b-It', 'system_fingerprint': 'fp_10c08bf97d', 'finish_reason': 'stop', 'logprobs': None}, id='run-120e12b8-4538-4c4e-95a1-df42bf15268b-0', usage_metadata={'input_tokens': 15, 'output_tokens': 25, 'total_tokens': 40}), HumanMessage(content='tell me what is my name?', additional_kwargs={}, response_metadata={}), AIMessage(content='Your name is Bob!  You told me at the beginning. 😊 \\n', additional_kwargs={}, response_metadata={'token_usage': {'completion_tokens': 18, 'prompt_tokens': 55, 'total_tokens': 73, 'completion_time': 0.032727273, 'prompt_time': 0.001831314, 'queue_time': 0.023685031999999998, 'total_time': 0.034558587}, 'model_name': 'Gemma2-9b-It', 'system_fingerprint': 'fp_10c08bf97d', 'finish_reason': 'stop', 'logprobs': None}, id='run-a0b8051a-703b-4067-9317-d192952afad3-0', usage_metadata={'input_tokens': 55, 'output_tokens': 18, 'total_tokens': 73})])}"
      ]
     },
     "execution_count": 17,
     "metadata": {},
     "output_type": "execute_result"
    }
   ],
   "source": [
    "store"
   ]
  },
  {
   "cell_type": "markdown",
   "metadata": {},
   "source": [
    "## RAG with LCEL"
   ]
  },
  {
   "cell_type": "code",
   "execution_count": 38,
   "metadata": {},
   "outputs": [],
   "source": [
    "from langchain_community.document_loaders import TextLoader, DirectoryLoader\n",
    "from langchain.text_splitter import RecursiveCharacterTextSplitter\n",
    "from langchain_community.vectorstores import Chroma\n",
    "from langchain import PromptTemplate\n",
    "from langchain_core.runnables import RunnableParallel, RunnablePassthrough, RunnableLambda\n",
    "from langchain_core.output_parsers import StrOutputParser\n"
   ]
  },
  {
   "cell_type": "code",
   "execution_count": 39,
   "metadata": {},
   "outputs": [],
   "source": [
    "from langchain.document_loaders import PyPDFLoader\n",
    "\n",
    "# Path to the PDF file\n",
    "loader = PyPDFLoader(\"../data/attention.pdf\")\n",
    "\n",
    "# Asynchronous loading of pages\n",
    "pages = []\n",
    "\n",
    "async def load_pages():\n",
    "    async for page in loader.alazy_load():\n",
    "        pages.append(page)\n",
    "\n",
    "# If running in an async environment, call load_pages\n",
    "# For example, in an async function or Jupyter notebook with asyncio:\n",
    "# await load_pages()\n"
   ]
  },
  {
   "cell_type": "code",
   "execution_count": 40,
   "metadata": {},
   "outputs": [],
   "source": [
    "# creating chunks using RecursiveTextSplitter\n",
    "docs = loader.load()\n",
    "text_splitter = RecursiveCharacterTextSplitter(\n",
    "    chunk_size=50,\n",
    "    chunk_overlap=10,\n",
    "    length_function=len\n",
    ")\n",
    "\n",
    "new_docs = text_splitter.split_documents(documents=docs)\n",
    "doc_strings = [doc.page_content for doc in new_docs]\n"
   ]
  },
  {
   "cell_type": "code",
   "execution_count": 42,
   "metadata": {},
   "outputs": [],
   "source": [
    "from langchain_huggingface import HuggingFaceEmbeddings\n",
    "embeddings = HuggingFaceEmbeddings(model_name=\"all-MiniLM-L6-v2\")\n",
    "from langchain_groq import ChatGroq\n",
    "llm=ChatGroq(model_name=\"Gemma2-9b-It\")"
   ]
  },
  {
   "cell_type": "code",
   "execution_count": 43,
   "metadata": {},
   "outputs": [],
   "source": [
    "db = Chroma.from_documents(new_docs, embeddings)\n",
    "retriever = db.as_retriever(search_kwargs={\"k\":4})"
   ]
  },
  {
   "cell_type": "code",
   "execution_count": 55,
   "metadata": {},
   "outputs": [],
   "source": [
    "template = \"\"\"Answer the question based only on the following context:\n",
    "{context}\n",
    "\n",
    "Question: {question}\n",
    "\"\"\"\n",
    "prompt = PromptTemplate.from_template(template)"
   ]
  },
  {
   "cell_type": "code",
   "execution_count": 56,
   "metadata": {},
   "outputs": [],
   "source": [
    "retrieval_chain = (\n",
    "    RunnableParallel({\"context\": retriever, \"question\": RunnablePassthrough()})\n",
    "    | prompt\n",
    "    | llm\n",
    "    | StrOutputParser()\n",
    "    )"
   ]
  },
  {
   "cell_type": "code",
   "execution_count": 57,
   "metadata": {},
   "outputs": [
    {
     "name": "stdout",
     "output_type": "stream",
     "text": [
      "Based on the provided context, we know that \"attention mechanisms\" is a topic discussed in a PDF file named \"attention.pdf\".  \n",
      "\n",
      "However, the text doesn't explain what an attention mechanism *is* or provide specific important points about it. All we know is that it's mentioned repeatedly on page 1 of the document and visually represented as \"Figure 3\" on page 12.  \n",
      "\n",
      "\n",
      "To answer your question about the definition and important points, I'd need more information from the \"attention.pdf\" document. \n",
      "\n",
      "\n"
     ]
    }
   ],
   "source": [
    "question = \"What is attention mechanism? can you highlight 3 important points?\"\n",
    "print(retrieval_chain.invoke(question))"
   ]
  },
  {
   "cell_type": "markdown",
   "metadata": {},
   "source": [
    "## Tools and Agents"
   ]
  },
  {
   "cell_type": "code",
   "execution_count": 58,
   "metadata": {},
   "outputs": [],
   "source": [
    "from langchain_community.tools import WikipediaQueryRun\n",
    "from langchain_community.utilities import WikipediaAPIWrapper\n"
   ]
  },
  {
   "cell_type": "code",
   "execution_count": 59,
   "metadata": {},
   "outputs": [],
   "source": [
    "api_wrapper = WikipediaAPIWrapper()"
   ]
  },
  {
   "cell_type": "code",
   "execution_count": 60,
   "metadata": {},
   "outputs": [],
   "source": [
    "tool = WikipediaQueryRun(api_wrapper=api_wrapper)"
   ]
  },
  {
   "cell_type": "code",
   "execution_count": 61,
   "metadata": {},
   "outputs": [
    {
     "data": {
      "text/plain": [
       "'wikipedia'"
      ]
     },
     "execution_count": 61,
     "metadata": {},
     "output_type": "execute_result"
    }
   ],
   "source": [
    "tool.name"
   ]
  },
  {
   "cell_type": "code",
   "execution_count": 62,
   "metadata": {},
   "outputs": [
    {
     "data": {
      "text/plain": [
       "{'query': {'description': 'query to look up on wikipedia',\n",
       "  'title': 'Query',\n",
       "  'type': 'string'}}"
      ]
     },
     "execution_count": 62,
     "metadata": {},
     "output_type": "execute_result"
    }
   ],
   "source": [
    "tool.args"
   ]
  },
  {
   "cell_type": "code",
   "execution_count": 63,
   "metadata": {},
   "outputs": [
    {
     "name": "stdout",
     "output_type": "stream",
     "text": [
      "Page: Elon Musk\n",
      "Summary: Elon Reeve Musk (; born June 28, 1971) is a businessman known for his key roles in the space company SpaceX and the automotive company Tesla, Inc. Other involvements include ownership of X Corp., the company that operates the social media platform X (formerly Twitter), and his role in the founding of the Boring Company, xAI, Neuralink, and OpenAI. In November 2024, president-elect Donald Trump announced Musk is set to become co-chair of the proposed Department of Government Efficiency (DOGE) in the second Trump administration. Musk is the wealthiest individual in the world; as of November 2024 Forbes estimates his net worth to be US$304 billion.\n",
      "Musk was born in Pretoria, South Africa, and briefly attended the University of Pretoria before immigrating to Canada at the age of 18, acquiring citizenship through his Canadian-born mother. Two years later, he matriculated at Queen's University at Kingston in Canada. Musk later transferred to the University of Pennsylvania and received bachelor's degrees in economics and physics. He moved to California in 1995 to attend Stanford University but never enrolled in classes, and with his brother Kimbal co-founded the online city guide software company Zip2. The startup was acquired by Compaq for $307 million in 1999. That same year, Musk co-founded X.com, a direct bank. X.com merged with Confinity in 2000 to form PayPal. In 2002, Musk acquired US citizenship, and that October eBay acquired PayPal for $1.5 billion. Using $100 million of the money he made from the sale of PayPal, Musk founded SpaceX, a spaceflight services company, in 2002. \n",
      "In 2004, Musk was an early investor in electric-vehicle manufacturer Tesla Motors, Inc. (later Tesla, Inc.), providing most of the initial financing and assuming the position of the company's chairman. He later became the product architect and, in 2008, the CEO. In 2006, Musk helped create SolarCity, a solar energy company that was acquired by Tesla in 2016 and became Tesla Energy. In 2013, he proposed a hyperloop high-speed vactrain transportation system. In 2015, he co-founded OpenAI, a nonprofit artificial intelligence research company. The following year Musk co-founded Neuralink, a neurotechnology company developing brain–computer interfaces, and The Boring Company, a tunnel construction company. In 2018 the U.S. Securities and Exchange Commission (SEC) sued Musk, alleging that he had falsely announced that he had secured funding for a private takeover of Tesla. To settle the case Musk stepped down as the chairman of Tesla and paid a $20 million fine. In 2022, he acquired Twitter for $44 billion, merged the company into the newly-created X Corp. and rebranded the service as X the following year. In March 2023, Musk founded xAI, an artificial-intelligence company.\n",
      "Musk's actions and expressed views have made him a polarizing figure. He has been criticized for making unscientific and misleading statements, including COVID-19 misinformation, promoting right-wing conspiracy theories, and endorsing an antisemitic trope; he has since apologized for the latter. His ownership of Twitter has been controversial because of the layoffs of large numbers of employees, an increase in hate speech, misinformation and disinformation posts on the website, and changes to website features, including verification. \n",
      "In early 2024, Musk became active in American politics as a vocal and financial supporter of Donald Trump, becoming Trump's second-largest individual donor in October 2024. In November 2024, Trump announced that he had chosen Musk to co-lead along with Vivek Ramaswamy a new DOGE department which aims to improve government efficiency through measures such as slashing \"excess regulations\" and cutting \"wasteful expenditures\".\n",
      "\n",
      "Page: Views of Elon Musk\n",
      "Summary: Elon Musk is the CEO or owner of multiple companies including Tesla, SpaceX, and X Corp, and has expressed many views on a wide variety of subjects, ranging from politics to scienc\n"
     ]
    }
   ],
   "source": [
    "print(tool.run({\"query\": \"Elon Musk\"}))"
   ]
  },
  {
   "cell_type": "code",
   "execution_count": 64,
   "metadata": {},
   "outputs": [],
   "source": [
    "from langchain_community.tools import YouTubeSearchTool"
   ]
  },
  {
   "cell_type": "code",
   "execution_count": 65,
   "metadata": {},
   "outputs": [],
   "source": [
    "tool2 = YouTubeSearchTool()"
   ]
  },
  {
   "cell_type": "code",
   "execution_count": 67,
   "metadata": {},
   "outputs": [
    {
     "data": {
      "text/plain": [
       "'youtube_search'"
      ]
     },
     "execution_count": 67,
     "metadata": {},
     "output_type": "execute_result"
    }
   ],
   "source": [
    "tool2.name"
   ]
  },
  {
   "cell_type": "code",
   "execution_count": 68,
   "metadata": {},
   "outputs": [
    {
     "name": "stdout",
     "output_type": "stream",
     "text": [
      "['https://www.youtube.com/watch?v=Cl_JpCSvTpk&pp=ygUMSm9obm55IEhhcmlz', 'https://www.youtube.com/watch?v=Fa1_VWuIElE&pp=ygUMSm9obm55IEhhcmlz']\n"
     ]
    }
   ],
   "source": [
    "print(tool2.run(\"Johnny Haris\"))"
   ]
  },
  {
   "cell_type": "code",
   "execution_count": 69,
   "metadata": {},
   "outputs": [],
   "source": [
    "from langchain_community.tools.tavily_search import TavilySearchResults"
   ]
  },
  {
   "cell_type": "code",
   "execution_count": 70,
   "metadata": {},
   "outputs": [],
   "source": [
    "tool3 = TavilySearchResults()"
   ]
  },
  {
   "cell_type": "code",
   "execution_count": 74,
   "metadata": {},
   "outputs": [
    {
     "name": "stdout",
     "output_type": "stream",
     "text": [
      "[{'url': 'https://en.wikipedia.org/wiki/We_choose_to_go_to_the_Moon', 'content': 'Address at Rice University on the Nation\\'s Space Effort, commonly known by the sentence in the middle of the speech \"We choose to go to the Moon\", was a speech on September 12, 1962 by John F. Kennedy, the President of the United States.The aim was to bolster public support for his proposal to land a man on the Moon before 1970 and bring him safely back to Earth.'}, {'url': 'https://archives.library.rice.edu/repositories/2/resources/666', 'content': \"President John F. Kennedy visited Rice University campus on September 12, 1962, and delivered a speech in the stadium on the Nation's Space Effort. Kennedy cites scientific progress as evidence that exploration of space is inevitable and argues that the United States should lead the space effort in order to retain a position of leadership on\"}, {'url': 'https://www.rice.edu/jfk-speech', 'content': 'About Rice Give to Rice \"We choose to go to the Moon\", officially titled the address at Rice University on the nation\\'s space effort, is a September 12, 1962, speech by United States President John F. During the next five years the National Aeronautics and Space Administration expects to double the number of scientists and engineers in this area, to increase its outlays for salaries and expenses to $60 million a year; to invest some $200 million in plant and laboratory facilities; and to direct or contract for new space efforts over $1 billion from this center in this city.'}, {'url': 'https://spacalum.rice.edu/pdf/JFK_rice_speech.pdf', 'content': \"Address at Rice University on the Nation's Space Effort. President John F. Kennedy Houston, Texas, September 12, 1962. President Pitzer, Mr. Vice President, Governor, Congressman Thomas, Senator Wiley, and Congressman Miller, Mr. Webb, Mr. Bell, scientists, distinguished guests, and ladies and gentlemen: I appreciate your president having made\"}, {'url': 'https://www.rice.edu/kennedy', 'content': 'John F. Kennedy Address at Rice University on the Space Effort. Sept. 12, 1962. President Pitzer, Mr. Vice President, Governor, Congressman Thomas, Senator Wiley, and Congressman Miller, Mr. Webb. Mr. Bell, scientists, distinguished guests, and ladies and gentlemen: I appreciate your president having made me an honorary visiting professor, and'}]\n"
     ]
    }
   ],
   "source": [
    "print(tool3.run({\"query\": \"Give some information about John F Kennedy's speech at rice university\"}))"
   ]
  },
  {
   "cell_type": "code",
   "execution_count": 75,
   "metadata": {},
   "outputs": [],
   "source": [
    "from langchain.agents import AgentType\n",
    "from langchain.agents import load_tools\n",
    "from langchain.agents import initialize_agent"
   ]
  },
  {
   "cell_type": "code",
   "execution_count": 76,
   "metadata": {},
   "outputs": [],
   "source": [
    "tool = load_tools([\"wikipedia\"], llm=llm)"
   ]
  },
  {
   "cell_type": "code",
   "execution_count": 78,
   "metadata": {},
   "outputs": [],
   "source": [
    "agent = initialize_agent(tool, llm, agent=AgentType.ZERO_SHOT_REACT_DESCRIPTION, verbose=True)"
   ]
  },
  {
   "cell_type": "code",
   "execution_count": 79,
   "metadata": {},
   "outputs": [
    {
     "name": "stderr",
     "output_type": "stream",
     "text": [
      "C:\\Users\\mailm\\AppData\\Local\\Temp\\ipykernel_13048\\3998087941.py:1: LangChainDeprecationWarning: The method `Chain.run` was deprecated in langchain 0.1.0 and will be removed in 1.0. Use :meth:`~invoke` instead.\n",
      "  agent.run(\"What are some capabilities of SpaceX Starship\")\n"
     ]
    },
    {
     "name": "stdout",
     "output_type": "stream",
     "text": [
      "\n",
      "\n",
      "\u001b[1m> Entering new AgentExecutor chain...\u001b[0m\n",
      "\u001b[32;1m\u001b[1;3mThought: I need to find information about SpaceX Starship on Wikipedia. \n",
      "Action: wikipedia\n",
      "Action Input: SpaceX Starship\u001b[0m\n",
      "Observation: \u001b[36;1m\u001b[1;3mPage: SpaceX Starship\n",
      "Summary: Starship is a two-stage fully reusable super heavy-lift launch vehicle under development by American aerospace company SpaceX. On April 20, 2023, with the first Integrated Flight Test, Starship became the most massive and most powerful vehicle ever to fly. SpaceX has developed Starship with the intention of lowering launch costs using economies of scale, aiming to achieve this by reusing both rocket stages by \"catching\" them with the launch tower's systems, increasing payload mass to orbit, increasing launch frequency, mass-manufacturing the rockets and adapting it to a wide range of space missions. Starship is the latest project in SpaceX's reusable launch system development program and plan to colonize Mars.\n",
      "Starship's two stages are the Super Heavy booster and the Starship spacecraft. Both stages are equipped with Raptor engines, the first flown and mass-produced full-flow staged combustion cycle engines, which burn liquid methane (natural gas) and liquid oxygen. The main structure is made from a special stainless steel alloy that SpaceX has dubbed \"30X\".\n",
      "As of 2024, Starship is in development with an iterative and incremental approach, involving test flights of prototype vehicles. As a successor to SpaceX's Falcon 9 and Falcon Heavy rockets, Starship is intended to perform a wide range of space missions. For missions to further destinations, such as geosynchronous orbit, the Moon, and Mars, Starship will rely on orbital refueling; a ship-to-ship propellant transfer demonstration is expected to occur in 2025. SpaceX also plans other versions of the Starship spacecraft, such as: cargo (deploying SpaceX's second-generation Starlink satellite constellation), and human spaceflight (the Human Landing System variant will land astronauts on the Moon as part of the Artemis program, starting in 2026).\n",
      "\n",
      "Page: SpaceX Starship (spacecraft)\n",
      "Summary: Starship is a spacecraft and second stage under development by American aerospace company SpaceX. Stacked atop its booster, the Super Heavy, the pair compose SpaceX's new super heavy-lift space vehicle, also called Starship. The spacecraft is designed to transport both crew and cargo to a variety of destinations, including Earth orbit, the Moon, and Mars. It's designed to be reusable and capable of landing propulsively by firing its engines to perform a controlled descent in the arms of a tower on Earth or with landing legs on other planetary bodies. It is intended to enable long duration interplanetary flights with a crew of up to 100 people. It will also be capable of point-to-point transport on Earth, enabling travel to anywhere in the world in less than an hour. Furthermore, it will be used to refuel other Starship spacecraft, enabling them to reach higher orbits and other space destinations. Elon Musk, the CEO of SpaceX, estimated in a tweet that eight launches would be needed to completely refuel a Starship in low Earth orbit, enabling it to travel onwards.\n",
      "Development began in 2012, when Musk described a plan to build a reusable rocket system with substantially greater capabilities than the Falcon 9 and the planned Falcon Heavy. The rocket evolved through many design and name changes. On July 25, 2019, the Starhopper prototype performed the first successful flight at SpaceX Starbase near Boca Chica, Texas. In May 2021, the SN15 prototype became the first full-size test spacecraft to take off and land successfully. On April 20, 2023, Starship 24 performed the first full flight test on top of a Super Heavy booster, followed by a second test on November 18, 2023, when Starship 25 successfully completed hot-staging and passed the Kármán Line, becoming the first Starship to reach space as well as the heaviest object to ever reach space, before exploding at 148 km. As of October 2024, SpaceX has conducted 3 more flight tests of Starship, successfully achieving orbital velocities and gradually testing the atmospheric reentry and vertical landing capabilities of\u001b[0m\n",
      "Thought:\u001b[32;1m\u001b[1;3mThought: I now know the capabilities of SpaceX Starship. \n",
      "Final Answer: SpaceX Starship is designed to be a fully reusable super heavy-lift launch vehicle capable of transporting both crew and cargo to a variety of destinations, including Earth orbit, the Moon, and Mars. It is designed to be reusable and capable of landing propulsively. It will also be capable of point-to-point transport on Earth and refueling other Starship spacecraft. \n",
      "\n",
      "\n",
      "\u001b[0m\n",
      "\n",
      "\u001b[1m> Finished chain.\u001b[0m\n"
     ]
    },
    {
     "data": {
      "text/plain": [
       "'SpaceX Starship is designed to be a fully reusable super heavy-lift launch vehicle capable of transporting both crew and cargo to a variety of destinations, including Earth orbit, the Moon, and Mars. It is designed to be reusable and capable of landing propulsively. It will also be capable of point-to-point transport on Earth and refueling other Starship spacecraft.'"
      ]
     },
     "execution_count": 79,
     "metadata": {},
     "output_type": "execute_result"
    }
   ],
   "source": [
    "agent.run(\"What are some capabilities of SpaceX Starship\")"
   ]
  },
  {
   "cell_type": "code",
   "execution_count": null,
   "metadata": {},
   "outputs": [],
   "source": []
  }
 ],
 "metadata": {
  "kernelspec": {
   "display_name": "Python 3",
   "language": "python",
   "name": "python3"
  },
  "language_info": {
   "codemirror_mode": {
    "name": "ipython",
    "version": 3
   },
   "file_extension": ".py",
   "mimetype": "text/x-python",
   "name": "python",
   "nbconvert_exporter": "python",
   "pygments_lexer": "ipython3",
   "version": "3.10.15"
  }
 },
 "nbformat": 4,
 "nbformat_minor": 2
}
