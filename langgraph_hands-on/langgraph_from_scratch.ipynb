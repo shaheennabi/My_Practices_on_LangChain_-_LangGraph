{
 "cells": [
  {
   "cell_type": "markdown",
   "metadata": {},
   "source": [
    "### Simple workflow with Graph"
   ]
  },
  {
   "cell_type": "code",
   "execution_count": 70,
   "metadata": {},
   "outputs": [],
   "source": [
    "def function3(input3):\n",
    "    return input3"
   ]
  },
  {
   "cell_type": "code",
   "execution_count": 71,
   "metadata": {},
   "outputs": [],
   "source": [
    "def function1(input1):\n",
    "    return input1 + \"from first function\"\n",
    "\n",
    "def function2(input2):\n",
    "    output = function3(\" this is function 3 in between \")\n",
    "    return input2 + \" \" + output + \" and Startship from second function \""
   ]
  },
  {
   "cell_type": "code",
   "execution_count": null,
   "metadata": {},
   "outputs": [],
   "source": []
  },
  {
   "cell_type": "code",
   "execution_count": 72,
   "metadata": {},
   "outputs": [],
   "source": [
    "from langgraph.graph import Graph"
   ]
  },
  {
   "cell_type": "code",
   "execution_count": 73,
   "metadata": {},
   "outputs": [],
   "source": [
    "workflow1=Graph()"
   ]
  },
  {
   "cell_type": "code",
   "execution_count": 74,
   "metadata": {},
   "outputs": [
    {
     "data": {
      "text/plain": [
       "<langgraph.graph.graph.Graph at 0x1d3dd70e5c0>"
      ]
     },
     "execution_count": 74,
     "metadata": {},
     "output_type": "execute_result"
    }
   ],
   "source": [
    "workflow1.add_node(\"function1\", function1)\n"
   ]
  },
  {
   "cell_type": "code",
   "execution_count": 75,
   "metadata": {},
   "outputs": [
    {
     "data": {
      "text/plain": [
       "<langgraph.graph.graph.Graph at 0x1d3dd70e5c0>"
      ]
     },
     "execution_count": 75,
     "metadata": {},
     "output_type": "execute_result"
    }
   ],
   "source": [
    "workflow1.add_node(\"function2\", function2)"
   ]
  },
  {
   "cell_type": "code",
   "execution_count": 76,
   "metadata": {},
   "outputs": [
    {
     "data": {
      "text/plain": [
       "<langgraph.graph.graph.Graph at 0x1d3dd70e5c0>"
      ]
     },
     "execution_count": 76,
     "metadata": {},
     "output_type": "execute_result"
    }
   ],
   "source": [
    "workflow1.add_edge(\"function1\", \"function2\")"
   ]
  },
  {
   "cell_type": "code",
   "execution_count": 77,
   "metadata": {},
   "outputs": [
    {
     "data": {
      "text/plain": [
       "<langgraph.graph.graph.Graph at 0x1d3dd70e5c0>"
      ]
     },
     "execution_count": 77,
     "metadata": {},
     "output_type": "execute_result"
    }
   ],
   "source": [
    "workflow1.set_entry_point(\"function1\")"
   ]
  },
  {
   "cell_type": "code",
   "execution_count": 78,
   "metadata": {},
   "outputs": [
    {
     "data": {
      "text/plain": [
       "<langgraph.graph.graph.Graph at 0x1d3dd70e5c0>"
      ]
     },
     "execution_count": 78,
     "metadata": {},
     "output_type": "execute_result"
    }
   ],
   "source": [
    "workflow1.set_finish_point(\"function2\")"
   ]
  },
  {
   "cell_type": "code",
   "execution_count": 79,
   "metadata": {},
   "outputs": [],
   "source": [
    "app1=workflow1.compile()"
   ]
  },
  {
   "cell_type": "code",
   "execution_count": 80,
   "metadata": {},
   "outputs": [
    {
     "data": {
      "image/png": "[encoded data removed]",
      "text/plain": [
       "<IPython.core.display.Image object>"
      ]
     },
     "metadata": {},
     "output_type": "display_data"
    }
   ],
   "source": [
    "from IPython.display import Image, display\n",
    "\n",
    "try:\n",
    "    display(Image(app1.get_graph().draw_mermaid_png()))\n",
    "\n",
    "except Exception as e:\n",
    "    # This requires some extra dependencies and is optional\n",
    "    print(e)"
   ]
  },
  {
   "cell_type": "code",
   "execution_count": 81,
   "metadata": {},
   "outputs": [
    {
     "data": {
      "text/plain": [
       "'hi this is bob from first function  this is function 3 in between  and Startship from second function '"
      ]
     },
     "execution_count": 81,
     "metadata": {},
     "output_type": "execute_result"
    }
   ],
   "source": [
    "app1.invoke(\"hi this is bob \")"
   ]
  },
  {
   "cell_type": "code",
   "execution_count": 82,
   "metadata": {},
   "outputs": [],
   "source": [
    "input = \"tuesday is the sixth flight test \""
   ]
  },
  {
   "cell_type": "code",
   "execution_count": 83,
   "metadata": {},
   "outputs": [
    {
     "name": "stdout",
     "output_type": "stream",
     "text": [
      "here is output from function1\n",
      "------------\n",
      "tuesday is the sixth flight test from first function\n",
      "\n",
      "\n",
      "here is output from function2\n",
      "------------\n",
      "tuesday is the sixth flight test from first function  this is function 3 in between  and Startship from second function \n",
      "\n",
      "\n"
     ]
    }
   ],
   "source": [
    "for output in app1.stream(input):\n",
    "    for key,value in  output.items():\n",
    "        print(f\"here is output from {key}\")\n",
    "        print(\"------------\")\n",
    "        print(value)\n",
    "        print(\"\\n\")"
   ]
  },
  {
   "cell_type": "markdown",
   "metadata": {},
   "source": [
    "## Creating workflow with llm"
   ]
  },
  {
   "cell_type": "code",
   "execution_count": 85,
   "metadata": {},
   "outputs": [],
   "source": [
    "import os"
   ]
  },
  {
   "cell_type": "code",
   "execution_count": 86,
   "metadata": {},
   "outputs": [],
   "source": [
    "TAVILY_API_KEY = os.getenv(\"TAVILY_API_KEY\")\n",
    "LANGCHAIN_TRACING_V2 = os.getenv(\"LANGCHAIN_TRACING_V2\")\n",
    "LANGCHAIN_ENDPOINT = os.getenv(\"LANGCHAIN_ENDPOINT\")\n",
    "LANGCHAIN_API_KEY = os.getenv(\"LANGCHAIN_API_KEY\")\n",
    "LANGCHAIN_PROJECT = os.getenv(\"LANGCHAIN_PROJECT\")\n",
    "SERPER_API_KEY = os.getenv(\"SERPER_API_KEY\")\n",
    "GROQ_API_KEY = os.getenv(\"GROQ_API_KEY\")\n",
    "HUGGINGFACE_API_KEY = os.getenv(\"HUGGINGFACE_API_KEY\")"
   ]
  },
  {
   "cell_type": "code",
   "execution_count": 87,
   "metadata": {},
   "outputs": [],
   "source": [
    "os.environ[\"TAVILY_API_KEY\"] = TAVILY_API_KEY\n",
    "os.environ[\"LANGCHAIN_TRACING_V2\"] = LANGCHAIN_TRACING_V2\n",
    "os.environ[\"LANGCHAIN_ENDPOINT\"] = LANGCHAIN_ENDPOINT\n",
    "os.environ[\"LANGCHAIN_API_KEY\"] = LANGCHAIN_API_KEY\n",
    "os.environ[\"LANGCHAIN_PROJECT\"] = LANGCHAIN_PROJECT\n",
    "os.environ[\"SERPER_API_KEY\"] = SERPER_API_KEY\n",
    "os.environ[\"GROQ_API_KEY\"] = GROQ_API_KEY\n",
    "os.environ[\"HUGGINGFACE_API_KEY\"] = HUGGINGFACE_API_KEY"
   ]
  },
  {
   "cell_type": "code",
   "execution_count": 88,
   "metadata": {},
   "outputs": [
    {
     "name": "stderr",
     "output_type": "stream",
     "text": [
      "c:\\Users\\mailm\\Documents\\langgraph-end-to-end\\venv\\lib\\site-packages\\tqdm\\auto.py:21: TqdmWarning: IProgress not found. Please update jupyter and ipywidgets. See https://ipywidgets.readthedocs.io/en/stable/user_install.html\n",
      "  from .autonotebook import tqdm as notebook_tqdm\n"
     ]
    }
   ],
   "source": [
    "from langchain_huggingface import HuggingFaceEmbeddings\n",
    "embeddings = HuggingFaceEmbeddings(model_name=\"all-MiniLM-L6-v2\")\n",
    "from langchain_groq import ChatGroq\n",
    "llm=ChatGroq(model_name=\"Gemma2-9b-It\")"
   ]
  },
  {
   "cell_type": "code",
   "execution_count": 89,
   "metadata": {},
   "outputs": [
    {
     "data": {
      "text/plain": [
       "'Hi! 👋 How can I help you today? 😊\\n'"
      ]
     },
     "execution_count": 89,
     "metadata": {},
     "output_type": "execute_result"
    }
   ],
   "source": [
    "llm.invoke(\"hi\").content"
   ]
  },
  {
   "cell_type": "code",
   "execution_count": 90,
   "metadata": {},
   "outputs": [],
   "source": [
    "def function1(input):\n",
    "    llm=ChatGroq(model_name=\"llama3-groq-70b-8192-tool-use-preview\")\n",
    "    response=llm.invoke(input).content\n",
    "    return response"
   ]
  },
  {
   "cell_type": "code",
   "execution_count": 91,
   "metadata": {},
   "outputs": [],
   "source": [
    "def function2(input):\n",
    "    upper_case=input.upper()\n",
    "    return upper_case"
   ]
  },
  {
   "cell_type": "code",
   "execution_count": 92,
   "metadata": {},
   "outputs": [],
   "source": [
    "from langgraph.graph import Graph\n",
    "workflow2=Graph()\n"
   ]
  },
  {
   "cell_type": "code",
   "execution_count": 93,
   "metadata": {},
   "outputs": [
    {
     "data": {
      "text/plain": [
       "<langgraph.graph.graph.Graph at 0x1d389842590>"
      ]
     },
     "execution_count": 93,
     "metadata": {},
     "output_type": "execute_result"
    }
   ],
   "source": [
    "workflow2.add_node(\"llm\",  function1)"
   ]
  },
  {
   "cell_type": "code",
   "execution_count": 94,
   "metadata": {},
   "outputs": [
    {
     "data": {
      "text/plain": [
       "<langgraph.graph.graph.Graph at 0x1d389842590>"
      ]
     },
     "execution_count": 94,
     "metadata": {},
     "output_type": "execute_result"
    }
   ],
   "source": [
    "workflow2.add_node(\"upper_string\", function2)"
   ]
  },
  {
   "cell_type": "code",
   "execution_count": 95,
   "metadata": {},
   "outputs": [
    {
     "data": {
      "text/plain": [
       "<langgraph.graph.graph.Graph at 0x1d389842590>"
      ]
     },
     "execution_count": 95,
     "metadata": {},
     "output_type": "execute_result"
    }
   ],
   "source": [
    "workflow2.add_edge(\"llm\", \"upper_string\")"
   ]
  },
  {
   "cell_type": "code",
   "execution_count": 96,
   "metadata": {},
   "outputs": [
    {
     "data": {
      "text/plain": [
       "<langgraph.graph.graph.Graph at 0x1d389842590>"
      ]
     },
     "execution_count": 96,
     "metadata": {},
     "output_type": "execute_result"
    }
   ],
   "source": [
    "workflow2.set_entry_point(\"llm\")\n",
    "workflow2.set_finish_point(\"upper_string\")"
   ]
  },
  {
   "cell_type": "code",
   "execution_count": 97,
   "metadata": {},
   "outputs": [],
   "source": [
    "app2=workflow2.compile()"
   ]
  },
  {
   "cell_type": "code",
   "execution_count": 98,
   "metadata": {},
   "outputs": [
    {
     "data": {
      "image/png": "[encoded data removed]",
      "text/plain": [
       "<IPython.core.display.Image object>"
      ]
     },
     "metadata": {},
     "output_type": "display_data"
    }
   ],
   "source": [
    "from IPython.display  import Image, display\n",
    "\n",
    "try:\n",
    "    display(Image(app2.get_graph().draw_mermaid_png()))\n",
    "\n",
    "except Exception  as e:\n",
    "    # This requires some extra dependencies and is optional\n",
    "    print(e)"
   ]
  },
  {
   "cell_type": "code",
   "execution_count": 99,
   "metadata": {},
   "outputs": [
    {
     "data": {
      "text/plain": [
       "'MACHINE LEARNING IS A BRANCH OF ARTIFICIAL INTELLIGENCE THAT INVOLVES THE USE OF ALGORITHMS AND STATISTICAL MODELS TO ENABLE MACHINES TO LEARN FROM DATA, MAKE DECISIONS, AND IMPROVE THEIR PERFORMANCE ON A GIVEN TASK OVER TIME. IT IS A TYPE OF ARTIFICIAL INTELLIGENCE THAT ALLOWS SYSTEMS TO AUTOMATICALLY IMPROVE THEIR PERFORMANCE BASED ON EXPERIENCE.\\n\\nMACHINE LEARNING ALGORITHMS ARE DESIGNED TO IDENTIFY PATTERNS IN DATA AND USE THESE PATTERNS TO MAKE PREDICTIONS OR DECISIONS. THEY CAN BE TRAINED ON VARIOUS TYPES OF DATA, SUCH AS IMAGES, TEXT, AUDIO, AND MORE. THE GOAL OF MACHINE LEARNING IS TO ENABLE MACHINES TO PERFORM TASKS THAT WOULD TYPICALLY REQUIRE HUMAN INTELLIGENCE, SUCH AS IMAGE RECOGNITION, NATURAL LANGUAGE PROCESSING, AND DECISION-MAKING.\\n\\nTHERE ARE SEVERAL TYPES OF MACHINE LEARNING ALGORITHMS, INCLUDING:\\n\\n1. **SUPERVISED LEARNING**: IN THIS TYPE OF MACHINE LEARNING, THE ALGORITHM IS PROVIDED WITH LABELED DATA, WHERE EACH EXAMPLE IS ACCOMPANIED BY A TARGET OR RESPONSE VARIABLE. THE GOAL IS TO LEARN A MAPPING BETWEEN INPUT DATA AND THE TARGET VARIABLE, SO THE ALGORITHM CAN MAKE PREDICTIONS ON NEW, UNSEEN DATA.\\n2. **UNSUPERVISED LEARNING**: IN UNSUPERVISED LEARNING, THE ALGORITHM IS PROVIDED WITH UNLABELED DATA, AND IT MUST FIND PATTERNS OR STRUCTURE WITHIN THE DATA ON ITS OWN. THIS TYPE OF LEARNING IS OFTEN USED FOR CLUSTERING, DIMENSIONALITY REDUCTION, AND ANOMALY DETECTION.\\n3. **REINFORCEMENT LEARNING**: REINFORCEMENT LEARNING INVOLVES AN AGENT THAT INTERACTS WITH AN ENVIRONMENT AND RECEIVES REWARDS OR PENALTIES FOR ITS ACTIONS. THE GOAL IS FOR THE AGENT TO LEARN A POLICY THAT MAXIMIZES THE CUMULATIVE REWARD OVER TIME.\\n4. **DEEP LEARNING**: DEEP LEARNING IS A SUBFIELD OF MACHINE LEARNING THAT INVOLVES THE USE OF NEURAL NETWORKS WITH MULTIPLE LAYERS. THESE NETWORKS CAN LEARN COMPLEX PATTERNS IN DATA AND ARE OFTEN USED FOR TASKS SUCH AS IMAGE RECOGNITION, SPEECH RECOGNITION, AND NATURAL LANGUAGE PROCESSING.\\n\\nMACHINE LEARNING HAS NUMEROUS APPLICATIONS ACROSS VARIOUS INDUSTRIES, INCLUDING:\\n\\n1. **HEALTHCARE**: MACHINE LEARNING CAN BE USED FOR PREDICTING PATIENT OUTCOMES, IDENTIFYING DISEASES FROM MEDICAL IMAGES, AND PERSONALIZING TREATMENT PLANS.\\n2. **FINANCE**: MACHINE LEARNING ALGORITHMS CAN HELP DETECT FRAUDULENT TRANSACTIONS, PREDICT STOCK PRICES, AND MANAGE RISK.\\n3. **RETAIL**: MACHINE LEARNING CAN BE USED FOR RECOMMENDATION SYSTEMS, DEMAND FORECASTING, AND SUPPLY CHAIN OPTIMIZATION.\\n4. **TRANSPORTATION**: MACHINE LEARNING IS USED IN AUTONOMOUS VEHICLES FOR TASKS SUCH AS OBJECT DETECTION, MOTION PLANNING, AND CONTROL.\\n\\nSOME OF THE KEY BENEFITS OF MACHINE LEARNING INCLUDE:\\n\\n1. **IMPROVED ACCURACY**: MACHINE LEARNING ALGORITHMS CAN ACHIEVE HIGH ACCURACY ON COMPLEX TASKS, OFTEN SURPASSING HUMAN PERFORMANCE.\\n2. **AUTOMATION**: MACHINE LEARNING CAN AUTOMATE REPETITIVE AND TIME-CONSUMING TASKS, FREEING UP RESOURCES FOR MORE STRATEGIC ACTIVITIES.\\n3. **SCALABILITY**: MACHINE LEARNING ALGORITHMS CAN HANDLE LARGE DATASETS AND SCALE TO MEET THE NEEDS OF GROWING BUSINESSES.\\n4. **CONTINUOUS IMPROVEMENT**: MACHINE LEARNING MODELS CAN LEARN FROM NEW DATA AND IMPROVE THEIR PERFORMANCE OVER TIME.'"
      ]
     },
     "execution_count": 99,
     "metadata": {},
     "output_type": "execute_result"
    }
   ],
   "source": [
    "app2.invoke(\"What is machine learning\")"
   ]
  },
  {
   "cell_type": "code",
   "execution_count": 101,
   "metadata": {},
   "outputs": [],
   "source": [
    "input=\"What is the nvidia isaacsim\""
   ]
  },
  {
   "cell_type": "code",
   "execution_count": 102,
   "metadata": {},
   "outputs": [
    {
     "name": "stdout",
     "output_type": "stream",
     "text": [
      "here is output from llm\n",
      "---------------\n",
      "NVIDIA IsaacSim is a virtual simulation environment designed to train and test AI models for robotics and autonomous systems. It allows users to simulate various scenarios and environments, which can be used to train AI models to make decisions in complex situations.\n",
      "\n",
      "IsaacSim is part of the NVIDIA Isaac SDK, which is a collection of tools and libraries for developing and deploying AI models in robotics and autonomous systems. The SDK includes various components such as perception, manipulation, and navigation, among others.\n",
      "\n",
      "IsaacSim provides several features that make it useful for training and testing AI models, including:\n",
      "\n",
      "1. **Simulation of various environments**: IsaacSim can simulate different environments, such as warehouses, hospitals, or homes, allowing users to train AI models in various scenarios.\n",
      "2. **Physics-based simulation**: The simulator uses physics-based models to simulate real-world interactions accurately, which helps in training AI models to understand the physical world better.\n",
      "3. **Sensor simulation**: IsaacSim can simulate various sensors, such as cameras, lidars, and sonars, which are essential for training AI models to perceive their environment.\n",
      "4. **Multi-agent simulation**: The simulator supports the simulation of multiple agents, allowing users to train AI models to interact with each other and their environment.\n",
      "5. **Integration with other tools**: IsaacSim can be integrated with other tools and frameworks, such as PyTorch or TensorFlow, for seamless development and deployment of AI models.\n",
      "\n",
      "By using IsaacSim, developers and researchers can train and test AI models more efficiently and effectively, reducing the need for physical prototypes and saving time and resources.\n",
      "\n",
      "\n",
      "here is output from upper_string\n",
      "---------------\n",
      "NVIDIA ISAACSIM IS A VIRTUAL SIMULATION ENVIRONMENT DESIGNED TO TRAIN AND TEST AI MODELS FOR ROBOTICS AND AUTONOMOUS SYSTEMS. IT ALLOWS USERS TO SIMULATE VARIOUS SCENARIOS AND ENVIRONMENTS, WHICH CAN BE USED TO TRAIN AI MODELS TO MAKE DECISIONS IN COMPLEX SITUATIONS.\n",
      "\n",
      "ISAACSIM IS PART OF THE NVIDIA ISAAC SDK, WHICH IS A COLLECTION OF TOOLS AND LIBRARIES FOR DEVELOPING AND DEPLOYING AI MODELS IN ROBOTICS AND AUTONOMOUS SYSTEMS. THE SDK INCLUDES VARIOUS COMPONENTS SUCH AS PERCEPTION, MANIPULATION, AND NAVIGATION, AMONG OTHERS.\n",
      "\n",
      "ISAACSIM PROVIDES SEVERAL FEATURES THAT MAKE IT USEFUL FOR TRAINING AND TESTING AI MODELS, INCLUDING:\n",
      "\n",
      "1. **SIMULATION OF VARIOUS ENVIRONMENTS**: ISAACSIM CAN SIMULATE DIFFERENT ENVIRONMENTS, SUCH AS WAREHOUSES, HOSPITALS, OR HOMES, ALLOWING USERS TO TRAIN AI MODELS IN VARIOUS SCENARIOS.\n",
      "2. **PHYSICS-BASED SIMULATION**: THE SIMULATOR USES PHYSICS-BASED MODELS TO SIMULATE REAL-WORLD INTERACTIONS ACCURATELY, WHICH HELPS IN TRAINING AI MODELS TO UNDERSTAND THE PHYSICAL WORLD BETTER.\n",
      "3. **SENSOR SIMULATION**: ISAACSIM CAN SIMULATE VARIOUS SENSORS, SUCH AS CAMERAS, LIDARS, AND SONARS, WHICH ARE ESSENTIAL FOR TRAINING AI MODELS TO PERCEIVE THEIR ENVIRONMENT.\n",
      "4. **MULTI-AGENT SIMULATION**: THE SIMULATOR SUPPORTS THE SIMULATION OF MULTIPLE AGENTS, ALLOWING USERS TO TRAIN AI MODELS TO INTERACT WITH EACH OTHER AND THEIR ENVIRONMENT.\n",
      "5. **INTEGRATION WITH OTHER TOOLS**: ISAACSIM CAN BE INTEGRATED WITH OTHER TOOLS AND FRAMEWORKS, SUCH AS PYTORCH OR TENSORFLOW, FOR SEAMLESS DEVELOPMENT AND DEPLOYMENT OF AI MODELS.\n",
      "\n",
      "BY USING ISAACSIM, DEVELOPERS AND RESEARCHERS CAN TRAIN AND TEST AI MODELS MORE EFFICIENTLY AND EFFECTIVELY, REDUCING THE NEED FOR PHYSICAL PROTOTYPES AND SAVING TIME AND RESOURCES.\n",
      "\n",
      "\n"
     ]
    }
   ],
   "source": [
    "for output in app2.stream(input):\n",
    "    for key, value in output.items():\n",
    "        print(f\"here is output from {key}\")\n",
    "        print(\"---------------\")\n",
    "        print(value)\n",
    "        print(\"\\n\")"
   ]
  },
  {
   "cell_type": "markdown",
   "metadata": {},
   "source": [
    "### Creating own output token counter"
   ]
  },
  {
   "cell_type": "code",
   "execution_count": 103,
   "metadata": {},
   "outputs": [],
   "source": [
    "def function3(input):\n",
    "    token=input.split()\n",
    "    token_number = len(token)\n",
    "    token_number=f\"total token number is {token_number}\"\n",
    "    return token_number"
   ]
  },
  {
   "cell_type": "code",
   "execution_count": 104,
   "metadata": {},
   "outputs": [],
   "source": [
    "workflow3=Graph()\n",
    "workflow3.add_node(\"llm\", function1)\n",
    "workflow3.add_node(\"token_counter\", function3)\n",
    "workflow3.add_edge(\"llm\", \"token_counter\")\n",
    "workflow3.set_entry_point(\"llm\")\n",
    "workflow3.set_finish_point(\"token_counter\")\n",
    "app3=workflow3.compile()"
   ]
  },
  {
   "cell_type": "code",
   "execution_count": 105,
   "metadata": {},
   "outputs": [
    {
     "data": {
      "image/png": "[encoded data removed]",
      "text/plain": [
       "<IPython.core.display.Image object>"
      ]
     },
     "metadata": {},
     "output_type": "display_data"
    }
   ],
   "source": [
    "from IPython.display  import Image, display\n",
    "\n",
    "try:\n",
    "    display(Image(app3.get_graph().draw_mermaid_png()))\n",
    "\n",
    "except Exception  as e:\n",
    "    # This requires some extra dependencies and is optional\n",
    "    print(e)"
   ]
  },
  {
   "cell_type": "code",
   "execution_count": 106,
   "metadata": {},
   "outputs": [
    {
     "data": {
      "text/plain": [
       "'total token number is 3'"
      ]
     },
     "execution_count": 106,
     "metadata": {},
     "output_type": "execute_result"
    }
   ],
   "source": [
    "app3.invoke(\"What is full name of trump\")"
   ]
  },
  {
   "cell_type": "code",
   "execution_count": null,
   "metadata": {},
   "outputs": [],
   "source": []
  }
 ],
 "metadata": {
  "kernelspec": {
   "display_name": "Python 3",
   "language": "python",
   "name": "python3"
  },
  "language_info": {
   "codemirror_mode": {
    "name": "ipython",
    "version": 3
   },
   "file_extension": ".py",
   "mimetype": "text/x-python",
   "name": "python",
   "nbconvert_exporter": "python",
   "pygments_lexer": "ipython3",
   "version": "3.10.15"
  }
 },
 "nbformat": 4,
 "nbformat_minor": 2
}
