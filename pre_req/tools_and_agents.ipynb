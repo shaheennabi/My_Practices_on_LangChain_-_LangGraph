{
 "cells": [
  {
   "cell_type": "code",
   "execution_count": 1,
   "metadata": {},
   "outputs": [],
   "source": [
    "import os"
   ]
  },
  {
   "cell_type": "code",
   "execution_count": 2,
   "metadata": {},
   "outputs": [],
   "source": [
    "TAVILY_API_KEY = os.getenv(\"TAVILY_API_KEY\")\n",
    "LANGCHAIN_TRACING_V2 = os.getenv(\"LANGCHAIN_TRACING_V2\")\n",
    "LANGCHAIN_ENDPOINT = os.getenv(\"LANGCHAIN_ENDPOINT\")\n",
    "LANGCHAIN_API_KEY = os.getenv(\"LANGCHAIN_API_KEY\")\n",
    "LANGCHAIN_PROJECT = os.getenv(\"LANGCHAIN_PROJECT\")\n",
    "SERPER_API_KEY = os.getenv(\"SERPER_API_KEY\")\n",
    "GEMINI_API_KEY = os.getenv(\"GEMINI_API_KEY\")\n",
    "GROQ_API_KEY = os.getenv(\"GROQ_API_KEY\")\n",
    "HUGGINGFACE_API_KEY = os.getenv(\"HUGGINGFACE_API_KEY\")"
   ]
  },
  {
   "cell_type": "code",
   "execution_count": 4,
   "metadata": {},
   "outputs": [],
   "source": [
    "os.environ[\"TAVILY_API_KEY\"] = TAVILY_API_KEY\n",
    "os.environ[\"LANGCHAIN_TRACING_V2\"] = LANGCHAIN_TRACING_V2\n",
    "os.environ[\"LANGCHAIN_ENDPOINT\"] = LANGCHAIN_ENDPOINT\n",
    "os.environ[\"LANGCHAIN_API_KEY\"] = LANGCHAIN_API_KEY\n",
    "os.environ[\"LANGCHAIN_PROJECT\"] = LANGCHAIN_PROJECT\n",
    "os.environ[\"SERPER_API_KEY\"] = SERPER_API_KEY\n",
    "os.environ[\"GROQ_API_KEY\"] = GROQ_API_KEY\n",
    "os.environ[\"HUGGINGFACE_API_KEY\"] = HUGGINGFACE_API_KEY"
   ]
  },
  {
   "cell_type": "code",
   "execution_count": 10,
   "metadata": {},
   "outputs": [
    {
     "name": "stderr",
     "output_type": "stream",
     "text": [
      "c:\\Users\\mailm\\Documents\\langgraph-end-to-end\\venv\\lib\\site-packages\\tqdm\\auto.py:21: TqdmWarning: IProgress not found. Please update jupyter and ipywidgets. See https://ipywidgets.readthedocs.io/en/stable/user_install.html\n",
      "  from .autonotebook import tqdm as notebook_tqdm\n"
     ]
    }
   ],
   "source": [
    "from langchain_huggingface import HuggingFaceEmbeddings\n",
    "embeddings = HuggingFaceEmbeddings(model_name=\"all-MiniLM-L6-v2\")\n",
    "from langchain_groq import ChatGroq\n",
    "llm=ChatGroq(model_name=\"Gemma2-9b-It\")"
   ]
  },
  {
   "cell_type": "code",
   "execution_count": 9,
   "metadata": {},
   "outputs": [
    {
     "data": {
      "text/plain": [
       "AIMessage(content='Hello! 👋  How can I help you today? 😄\\n', additional_kwargs={}, response_metadata={'token_usage': {'completion_tokens': 15, 'prompt_tokens': 10, 'total_tokens': 25, 'completion_time': 0.027272727, 'prompt_time': 4e-07, 'queue_time': 0.014290697, 'total_time': 0.027273127}, 'model_name': 'Gemma2-9b-It', 'system_fingerprint': 'fp_10c08bf97d', 'finish_reason': 'stop', 'logprobs': None}, id='run-cf3e6a19-caa3-479b-aa69-bdce013e8358-0', usage_metadata={'input_tokens': 10, 'output_tokens': 15, 'total_tokens': 25})"
      ]
     },
     "execution_count": 9,
     "metadata": {},
     "output_type": "execute_result"
    }
   ],
   "source": [
    "llm.invoke(\"hello\")"
   ]
  },
  {
   "cell_type": "markdown",
   "metadata": {},
   "source": [
    "## Predefined tools"
   ]
  },
  {
   "cell_type": "code",
   "execution_count": 10,
   "metadata": {},
   "outputs": [
    {
     "name": "stdout",
     "output_type": "stream",
     "text": [
      "Page: Elon Musk\n",
      "Summary: Elon Reeve Musk (; born June 28, 1971) is a businessman known for his key roles in the space company SpaceX and the automotive company Tesla, Inc. Other involvements include ownership of X Corp., the company that operates the social media platform X (formerly Twitter), and his role in the founding of the Boring Company, xAI, Neuralink, and OpenAI. In November 2024, president-elect Donald Trump announced Musk is set to become co-chair of the proposed Department of Government Efficiency (DOGE) in the second Trump administration. Musk is the wealthiest individual in the world; as of November 2024 Forbes estimates his net worth to be US$304 billion.\n",
      "Musk was born in Pretoria, South Africa, and briefly attended the University of Pretoria before immigrating to Canada at the age of 18, acquiring citizenship through his Canadian-born mother. Two years later, he matriculated at Queen's University at Kingston in Canada. Musk later transferred to the University of Pennsylvania and received bachelor's degrees in economics and physics. He moved to California in 1995 to attend Stanford University but never enrolled in classes, and with his brother Kimbal co-founded the online city guide software company Zip2. The startup was acquired by Compaq for $307 million in 1999. That same year, Musk co-founded X.com, a direct bank. X.com merged with Confinity in 2000 to form PayPal. In 2002, Musk acquired US citizenship, and that October eBay acquired PayPal for $1.5 billion. Using $100 million of the money he made from the sale of PayPal, Musk founded SpaceX, a spaceflight services company, in 2002. \n",
      "In 2004, Musk was an early investor in electric-vehicle manufacturer Tesla Motors, Inc. (later Tesla, Inc.), providing most of the initial financing and assuming the position of the company's chairman. He later became the product architect and, in 2008, the CEO. In 2006, Musk helped create SolarCity, a solar energy company that was acquired by Tesla in 2016 and became Tesla Energy. In 2013, he proposed a hyperloop high-speed vactrain transportation system. In 2015, he co-founded OpenAI, a nonprofit artificial intelligence research company. The following year Musk co-founded Neuralink, a neurotechnology company developing brain–computer interfaces, and The Boring Company, a tunnel construction company. In 2018 the U.S. Securities and Exchange Commission (SEC) sued Musk, alleging that he had falsely announced that he had secured funding for a private takeover of Tesla. To settle the case Musk stepped down as the chairman of Tesla and paid a $20 million fine. In 2022, he acquired Twitter for $44 billion, merged the company into the newly-created X Corp. and rebranded the service as X the following year. In March 2023, Musk founded xAI, an artificial-intelligence company.\n",
      "Musk's actions and expressed views have made him a polarizing figure. He has been criticized for making unscientific and misleading statements, including COVID-19 misinformation, promoting right-wing conspiracy theories, and endorsing an antisemitic trope; he has since apologized for the latter. His ownership of Twitter has been controversial because of the layoffs of large numbers of employees, an increase in hate speech, misinformation and disinformation posts on the website, and changes to website features, including verification. \n",
      "In early 2024, Musk became active in American politics as a vocal and financial supporter of Donald Trump, becoming Trump's second-largest individual donor in October 2024. In November 2024, Trump announced that he had chosen Musk to co-lead along with Vivek Ramaswamy a new DOGE department which aims to improve government efficiency through measures such as slashing \"excess regulations\" and cutting \"wasteful expenditures\".\n",
      "\n",
      "Page: Views of Elon Musk\n",
      "Summary: Elon Musk is the CEO or owner of multiple companies including Tesla, SpaceX, and X Corp, and has expressed many views on a wide variety of subjects, ranging from politics to scienc\n"
     ]
    }
   ],
   "source": [
    "from langchain_community.tools import WikipediaQueryRun\n",
    "from langchain_community.utilities import WikipediaAPIWrapper\n",
    "api_wrapper = WikipediaAPIWrapper()\n",
    "tool = WikipediaQueryRun(api_wrapper=api_wrapper)\n",
    "print(tool.run({\"query\": \"Elon Musk\"}))"
   ]
  },
  {
   "cell_type": "markdown",
   "metadata": {},
   "source": [
    "## Creating a Custom Agent"
   ]
  },
  {
   "cell_type": "code",
   "execution_count": 11,
   "metadata": {},
   "outputs": [],
   "source": [
    "from langchain.agents import tool\n",
    "@tool\n",
    "def get_word_length(word: str) -> int:\n",
    "    \"\"\"Return the length of a word\"\"\"\n",
    "    return len(word)"
   ]
  },
  {
   "cell_type": "code",
   "execution_count": 12,
   "metadata": {},
   "outputs": [
    {
     "name": "stderr",
     "output_type": "stream",
     "text": [
      "C:\\Users\\mailm\\AppData\\Local\\Temp\\ipykernel_17024\\307297686.py:1: LangChainDeprecationWarning: The method `BaseTool.__call__` was deprecated in langchain-core 0.1.47 and will be removed in 1.0. Use :meth:`~invoke` instead.\n",
      "  get_word_length(\"hello world\")\n"
     ]
    },
    {
     "data": {
      "text/plain": [
       "11"
      ]
     },
     "execution_count": 12,
     "metadata": {},
     "output_type": "execute_result"
    }
   ],
   "source": [
    "get_word_length(\"hello world\")"
   ]
  },
  {
   "cell_type": "markdown",
   "metadata": {},
   "source": [
    "## Anatomy of Agents"
   ]
  },
  {
   "cell_type": "code",
   "execution_count": 31,
   "metadata": {},
   "outputs": [],
   "source": [
    "# from the first version of langchain\n",
    "from langchain.agents import AgentType\n",
    "from langchain.agents import load_tools\n",
    "from langchain.agents import initialize_agent"
   ]
  },
  {
   "cell_type": "code",
   "execution_count": 32,
   "metadata": {},
   "outputs": [],
   "source": [
    "tool = load_tools([\"wikipedia\"], llm=llm)"
   ]
  },
  {
   "cell_type": "code",
   "execution_count": 33,
   "metadata": {},
   "outputs": [
    {
     "name": "stderr",
     "output_type": "stream",
     "text": [
      "C:\\Users\\mailm\\AppData\\Local\\Temp\\ipykernel_17024\\2451433261.py:1: LangChainDeprecationWarning: The function `initialize_agent` was deprecated in LangChain 0.1.0 and will be removed in 1.0. Use :meth:`~Use new agent constructor methods like create_react_agent, create_json_agent, create_structured_chat_agent, etc.` instead.\n",
      "  agent = initialize_agent(tool, llm, agent=AgentType.ZERO_SHOT_REACT_DESCRIPTION, verbose=True)\n"
     ]
    }
   ],
   "source": [
    "agent = initialize_agent(tool, llm, agent=AgentType.ZERO_SHOT_REACT_DESCRIPTION, verbose=True)"
   ]
  },
  {
   "cell_type": "code",
   "execution_count": null,
   "metadata": {},
   "outputs": [
    {
     "name": "stderr",
     "output_type": "stream",
     "text": [
      "C:\\Users\\mailm\\AppData\\Local\\Temp\\ipykernel_17024\\4145337820.py:1: LangChainDeprecationWarning: The method `Chain.run` was deprecated in langchain 0.1.0 and will be removed in 1.0. Use :meth:`~invoke` instead.\n",
      "  agent.run(\"What is the purpose Elon Musk starting boring company\")\n"
     ]
    },
    {
     "name": "stdout",
     "output_type": "stream",
     "text": [
      "\n",
      "\n",
      "\u001b[1m> Entering new AgentExecutor chain...\u001b[0m\n",
      "\u001b[32;1m\u001b[1;3mThought: To understand Elon Musk's motivation for starting The Boring Company, I should look for information about the company's goals and mission. \n",
      "Action: wikipedia\n",
      "Action Input: The Boring Company\u001b[0m"
     ]
    },
    {
     "name": "stderr",
     "output_type": "stream",
     "text": [
      "c:\\Users\\mailm\\Documents\\langgraph-end-to-end\\venv\\lib\\site-packages\\wikipedia\\wikipedia.py:389: GuessedAtParserWarning: No parser was explicitly specified, so I'm using the best available HTML parser for this system (\"html.parser\"). This usually isn't a problem, but if you run this code on another system, or in a different virtual environment, it may use a different parser and behave differently.\n",
      "\n",
      "The code that caused this warning is on line 389 of the file c:\\Users\\mailm\\Documents\\langgraph-end-to-end\\venv\\lib\\site-packages\\wikipedia\\wikipedia.py. To get rid of this warning, pass the additional argument 'features=\"html.parser\"' to the BeautifulSoup constructor.\n",
      "\n",
      "  lis = BeautifulSoup(html).find_all('li')\n"
     ]
    },
    {
     "name": "stdout",
     "output_type": "stream",
     "text": [
      "\n",
      "Observation: \u001b[36;1m\u001b[1;3mPage: The Boring Company\n",
      "Summary: The Boring Company (TBC) is an American infrastructure, tunnel construction services, and equipment company founded by Elon Musk. TBC was founded as a subsidiary of SpaceX in 2017, and was spun off as a separate corporation in 2018. TBC has completed one tunneling project that is open to the public, as well as multiple test tunnels.\n",
      "In 2018, TBC completed one tunnel for testing in Los Angeles County, California. In 2021, TBC completed the Las Vegas Convention Center (LVCC) Loop, which is a three-station transportation system consisting of 1.7 miles (2.7 km) of tunnels. As of April 2024, a segment to Resorts World Las Vegas is also open, and tunnels to Encore and Westgate resorts are being finalised. The system is planned to expand to a total of 68 miles (109 km) of tunnels in Las Vegas. \n",
      "Many other TBC projects in cities across the United States have been announced, but subsequently were cancelled or became inactive due to a lack of activity from the company.\n",
      "\n",
      "Page: Boring test tunnel\n",
      "Summary: The R&D Tunnel, also called the Hawthorne test tunnel or Boring test tunnel, is a 1.14 miles (1.83 km) tunnel in Hawthorne, California, for testing hyperloop and \"loop-based transportation\". It was completed by The Boring Company in late 2018. The single-bore tunnel was constructed during 2017 and 2018 using a 14-foot (4.2 m) diameter tunnel boring machine, giving a finished 12-foot (3.8 m) internal diameter.\u001b[0m\n",
      "Thought:\u001b[32;1m\u001b[1;3mThought: The Wikipedia page states that The Boring Company was founded by Elon Musk and focuses on tunnel construction services and equipment. It mentions projects like the Las Vegas Convention Center Loop and the Hawthorne test tunnel.  To understand Musk's purpose, I need to look for his stated goals or motivations. \n",
      "\n",
      "Action: wikipedia\n",
      "Action Input: Elon Musk The Boring Company\u001b[0m\n",
      "Observation: \u001b[36;1m\u001b[1;3mPage: The Boring Company\n",
      "Summary: The Boring Company (TBC) is an American infrastructure, tunnel construction services, and equipment company founded by Elon Musk. TBC was founded as a subsidiary of SpaceX in 2017, and was spun off as a separate corporation in 2018. TBC has completed one tunneling project that is open to the public, as well as multiple test tunnels.\n",
      "In 2018, TBC completed one tunnel for testing in Los Angeles County, California. In 2021, TBC completed the Las Vegas Convention Center (LVCC) Loop, which is a three-station transportation system consisting of 1.7 miles (2.7 km) of tunnels. As of April 2024, a segment to Resorts World Las Vegas is also open, and tunnels to Encore and Westgate resorts are being finalised. The system is planned to expand to a total of 68 miles (109 km) of tunnels in Las Vegas. \n",
      "Many other TBC projects in cities across the United States have been announced, but subsequently were cancelled or became inactive due to a lack of activity from the company.\n",
      "\n",
      "Page: Boring test tunnel\n",
      "Summary: The R&D Tunnel, also called the Hawthorne test tunnel or Boring test tunnel, is a 1.14 miles (1.83 km) tunnel in Hawthorne, California, for testing hyperloop and \"loop-based transportation\". It was completed by The Boring Company in late 2018. The single-bore tunnel was constructed during 2017 and 2018 using a 14-foot (4.2 m) diameter tunnel boring machine, giving a finished 12-foot (3.8 m) internal diameter.\n",
      "\n",
      "Page: Wealth of Elon Musk\n",
      "Summary: Elon Musk is one of the wealthiest people in the world, with an estimated net worth of US $314 billion as of November 2024, according to the Bloomberg Billionaires Index, and $300.3 billion according to Forbes, primarily from his ownership stakes in Tesla, Inc. and SpaceX. In November 2021, he became the first person in the world to have a net worth above $300 billion.\u001b[0m\n",
      "Thought:\u001b[32;1m\u001b[1;3mThought:  The Wikipedia pages don't explicitly state Elon Musk's motivations for starting The Boring Company. However, we can infer some possibilities based on his other ventures and public statements.\n",
      " \n",
      "Action: wikipedia\n",
      "Action Input: Elon Musk Hyperloop\n",
      "\u001b[0m\n",
      "Observation: \u001b[36;1m\u001b[1;3mPage: Hyperloop\n",
      "Summary: Hyperloop is a proposed high-speed transportation system for both passengers and freight. The concept was published by Elon Musk in a 2013 white paper, where the hyperloop was described as a transportation system using capsules supported by an air-bearing surface within a low-pressure tube. Hyperloop systems have three essential elements: tubes, pods, and terminals. The tube is a large, sealed low-pressure system (typically a long tunnel). The pod is a coach at atmospheric pressure that experiences low air resistance or friction inside the tube using magnetic propulsion (in the initial design, augmented by a ducted fan). The terminal handles pod arrivals and departures. The hyperloop, in the form proposed by Musk, differs from traditional vactrains by relying on residual air pressure inside the tube to provide lift from aerofoils and propulsion by fans; however, many subsequent variants using the name \"hyperloop\" have remained relatively close to the core principles of vactrains.\n",
      "Hyperloop was teased by Elon Musk at a 2012 speaking event, and described as a \"fifth mode of transport\". Musk released details of an alpha-version in a white paper on 22 August 2013, in which the hyperloop design incorporated reduced-pressure tubes with pressurized capsules riding on air bearings driven by linear induction motors and axial compressors. The white paper showed an example hyperloop route running from the Los Angeles region to the San Francisco Bay Area, roughly following the Interstate 5 corridor. Some transportation analysts challenged the cost estimates in the white paper, with some predicting that a hyperloop would run several billion dollars higher.\n",
      "The hyperloop concept has been promoted by Musk and SpaceX, and other companies or organizations were encouraged to collaborate in developing the technology.  \n",
      "A Technical University of Munich hyperloop set a speed record of 463 km/h (288 mph) in July 2019 at the pod design competition hosted by SpaceX in Hawthorne, California. Virgin Hyperloop conducted the first human trial in November 2020 at its test site in Las Vegas, reaching a top speed of 172 km/h (107 mph). Swisspod Technologies unveiled a 1:12 scale testing facility in a circular shape to simulate an \"infinite\" hyperloop trajectory in July 2021 on the EPFL campus at Lausanne, Switzerland. In 2023, a new European effort to standardize \"hyperloop systems\" released a draft standard.\n",
      "Hyperloop One, one of the best well-known and well-funded players in the hyperloop space, declared bankruptcy and ceased operations on 31 December 2023. Other companies continue to pursue hyperloop technology development.\n",
      "\n",
      "Page: Twitter under Elon Musk\n",
      "Summary: Elon Musk completed his acquisition of Twitter in October 2022; Musk acted as CEO of Twitter until June 2023 when he was succeeded by Linda Yaccarino. In a move that, despite Yaccarino's accession, was widely attributed to Musk, Twitter was rebranded to X on July 23, 2023, and its domain name changed from twitter.com to x.com on May 17, 2024.\n",
      "X is one of the top social media platforms and the fifth-most-visited website in the world as of June 2024. Users can share posts containing text messages, images, and videos and interact with other users' content through likes and reposts. X offers additional features such as direct messaging, video and audio calling, bookmarks, lists, communities, a chatbot, and the social audio feature Spaces.\n",
      "Founded in March 2006 by Jack Dorsey, Noah Glass, Biz Stone, and Evan Williams as Twitter, it underwent a rebranding in July 2023 after being acquired by Elon Musk in 2022. Now operating as X, the platform closely resembles its predecessor but includes additional features such as long-form texts,  account monetization options, audio-video calls, integration with xAI's Grok chatbot, job search, and a verification process accessible to premium users. Several Twitter legacy features were removed from the site after Musk acquired Twitter, inclu\u001b[0m\n",
      "Thought:\u001b[32;1m\u001b[1;3mQuestion: What is the purpose Elon Musk starting boring company\n",
      "Thought:To understand Elon Musk's motivation for starting The Boring Company, I should look for information about the company's goals and mission. \n",
      "Action: wikipedia\n",
      "Action Input: The Boring Company\u001b[0m"
     ]
    },
    {
     "name": "stderr",
     "output_type": "stream",
     "text": [
      "c:\\Users\\mailm\\Documents\\langgraph-end-to-end\\venv\\lib\\site-packages\\wikipedia\\wikipedia.py:389: GuessedAtParserWarning: No parser was explicitly specified, so I'm using the best available HTML parser for this system (\"html.parser\"). This usually isn't a problem, but if you run this code on another system, or in a different virtual environment, it may use a different parser and behave differently.\n",
      "\n",
      "The code that caused this warning is on line 389 of the file c:\\Users\\mailm\\Documents\\langgraph-end-to-end\\venv\\lib\\site-packages\\wikipedia\\wikipedia.py. To get rid of this warning, pass the additional argument 'features=\"html.parser\"' to the BeautifulSoup constructor.\n",
      "\n",
      "  lis = BeautifulSoup(html).find_all('li')\n"
     ]
    },
    {
     "name": "stdout",
     "output_type": "stream",
     "text": [
      "\n",
      "Observation: \u001b[36;1m\u001b[1;3mPage: The Boring Company\n",
      "Summary: The Boring Company (TBC) is an American infrastructure, tunnel construction services, and equipment company founded by Elon Musk. TBC was founded as a subsidiary of SpaceX in 2017, and was spun off as a separate corporation in 2018. TBC has completed one tunneling project that is open to the public, as well as multiple test tunnels.\n",
      "In 2018, TBC completed one tunnel for testing in Los Angeles County, California. In 2021, TBC completed the Las Vegas Convention Center (LVCC) Loop, which is a three-station transportation system consisting of 1.7 miles (2.7 km) of tunnels. As of April 2024, a segment to Resorts World Las Vegas is also open, and tunnels to Encore and Westgate resorts are being finalised. The system is planned to expand to a total of 68 miles (109 km) of tunnels in Las Vegas. \n",
      "Many other TBC projects in cities across the United States have been announced, but subsequently were cancelled or became inactive due to a lack of activity from the company.\n",
      "\n",
      "Page: Boring test tunnel\n",
      "Summary: The R&D Tunnel, also called the Hawthorne test tunnel or Boring test tunnel, is a 1.14 miles (1.83 km) tunnel in Hawthorne, California, for testing hyperloop and \"loop-based transportation\". It was completed by The Boring Company in late 2018. The single-bore tunnel was constructed during 2017 and 2018 using a 14-foot (4.2 m) diameter tunnel boring machine, giving a finished 12-foot (3.8 m) internal diameter.\u001b[0m\n",
      "Thought:\u001b[32;1m\u001b[1;3mQuestion: What is the purpose Elon Musk starting boring company\n",
      "Thought:To understand Elon Musk's motivation for starting The Boring Company, I should look for information about the company's goals and mission. \n",
      "Action: wikipedia\n",
      "Action Input: The Boring Company\u001b[0m"
     ]
    },
    {
     "name": "stderr",
     "output_type": "stream",
     "text": [
      "c:\\Users\\mailm\\Documents\\langgraph-end-to-end\\venv\\lib\\site-packages\\wikipedia\\wikipedia.py:389: GuessedAtParserWarning: No parser was explicitly specified, so I'm using the best available HTML parser for this system (\"html.parser\"). This usually isn't a problem, but if you run this code on another system, or in a different virtual environment, it may use a different parser and behave differently.\n",
      "\n",
      "The code that caused this warning is on line 389 of the file c:\\Users\\mailm\\Documents\\langgraph-end-to-end\\venv\\lib\\site-packages\\wikipedia\\wikipedia.py. To get rid of this warning, pass the additional argument 'features=\"html.parser\"' to the BeautifulSoup constructor.\n",
      "\n",
      "  lis = BeautifulSoup(html).find_all('li')\n"
     ]
    },
    {
     "name": "stdout",
     "output_type": "stream",
     "text": [
      "\n",
      "Observation: \u001b[36;1m\u001b[1;3mPage: The Boring Company\n",
      "Summary: The Boring Company (TBC) is an American infrastructure, tunnel construction services, and equipment company founded by Elon Musk. TBC was founded as a subsidiary of SpaceX in 2017, and was spun off as a separate corporation in 2018. TBC has completed one tunneling project that is open to the public, as well as multiple test tunnels.\n",
      "In 2018, TBC completed one tunnel for testing in Los Angeles County, California. In 2021, TBC completed the Las Vegas Convention Center (LVCC) Loop, which is a three-station transportation system consisting of 1.7 miles (2.7 km) of tunnels. As of April 2024, a segment to Resorts World Las Vegas is also open, and tunnels to Encore and Westgate resorts are being finalised. The system is planned to expand to a total of 68 miles (109 km) of tunnels in Las Vegas. \n",
      "Many other TBC projects in cities across the United States have been announced, but subsequently were cancelled or became inactive due to a lack of activity from the company.\n",
      "\n",
      "Page: Boring test tunnel\n",
      "Summary: The R&D Tunnel, also called the Hawthorne test tunnel or Boring test tunnel, is a 1.14 miles (1.83 km) tunnel in Hawthorne, California, for testing hyperloop and \"loop-based transportation\". It was completed by The Boring Company in late 2018. The single-bore tunnel was constructed during 2017 and 2018 using a 14-foot (4.2 m) diameter tunnel boring machine, giving a finished 12-foot (3.8 m) internal diameter.\u001b[0m\n",
      "Thought:\u001b[32;1m\u001b[1;3mQuestion: What is the purpose Elon Musk starting boring company\n",
      "Thought: To understand Elon Musk's motivation for starting The Boring Company, I should look for information about the company's goals and mission. \n",
      "Action: wikipedia\n",
      "Action Input: The Boring Company\u001b[0m"
     ]
    },
    {
     "name": "stderr",
     "output_type": "stream",
     "text": [
      "c:\\Users\\mailm\\Documents\\langgraph-end-to-end\\venv\\lib\\site-packages\\wikipedia\\wikipedia.py:389: GuessedAtParserWarning: No parser was explicitly specified, so I'm using the best available HTML parser for this system (\"html.parser\"). This usually isn't a problem, but if you run this code on another system, or in a different virtual environment, it may use a different parser and behave differently.\n",
      "\n",
      "The code that caused this warning is on line 389 of the file c:\\Users\\mailm\\Documents\\langgraph-end-to-end\\venv\\lib\\site-packages\\wikipedia\\wikipedia.py. To get rid of this warning, pass the additional argument 'features=\"html.parser\"' to the BeautifulSoup constructor.\n",
      "\n",
      "  lis = BeautifulSoup(html).find_all('li')\n"
     ]
    },
    {
     "name": "stdout",
     "output_type": "stream",
     "text": [
      "\n",
      "Observation: \u001b[36;1m\u001b[1;3mPage: The Boring Company\n",
      "Summary: The Boring Company (TBC) is an American infrastructure, tunnel construction services, and equipment company founded by Elon Musk. TBC was founded as a subsidiary of SpaceX in 2017, and was spun off as a separate corporation in 2018. TBC has completed one tunneling project that is open to the public, as well as multiple test tunnels.\n",
      "In 2018, TBC completed one tunnel for testing in Los Angeles County, California. In 2021, TBC completed the Las Vegas Convention Center (LVCC) Loop, which is a three-station transportation system consisting of 1.7 miles (2.7 km) of tunnels. As of April 2024, a segment to Resorts World Las Vegas is also open, and tunnels to Encore and Westgate resorts are being finalised. The system is planned to expand to a total of 68 miles (109 km) of tunnels in Las Vegas. \n",
      "Many other TBC projects in cities across the United States have been announced, but subsequently were cancelled or became inactive due to a lack of activity from the company.\n",
      "\n",
      "Page: Boring test tunnel\n",
      "Summary: The R&D Tunnel, also called the Hawthorne test tunnel or Boring test tunnel, is a 1.14 miles (1.83 km) tunnel in Hawthorne, California, for testing hyperloop and \"loop-based transportation\". It was completed by The Boring Company in late 2018. The single-bore tunnel was constructed during 2017 and 2018 using a 14-foot (4.2 m) diameter tunnel boring machine, giving a finished 12-foot (3.8 m) internal diameter.\u001b[0m\n",
      "Thought:\u001b[32;1m\u001b[1;3mQuestion: What is the purpose Elon Musk starting boring company\n",
      "Thought: To understand Elon Musk's motivation for starting The Boring Company, I should look for information about the company's goals and mission. \n",
      "Action: wikipedia\n",
      "Action Input: The Boring Company\u001b[0m"
     ]
    },
    {
     "name": "stderr",
     "output_type": "stream",
     "text": [
      "c:\\Users\\mailm\\Documents\\langgraph-end-to-end\\venv\\lib\\site-packages\\wikipedia\\wikipedia.py:389: GuessedAtParserWarning: No parser was explicitly specified, so I'm using the best available HTML parser for this system (\"html.parser\"). This usually isn't a problem, but if you run this code on another system, or in a different virtual environment, it may use a different parser and behave differently.\n",
      "\n",
      "The code that caused this warning is on line 389 of the file c:\\Users\\mailm\\Documents\\langgraph-end-to-end\\venv\\lib\\site-packages\\wikipedia\\wikipedia.py. To get rid of this warning, pass the additional argument 'features=\"html.parser\"' to the BeautifulSoup constructor.\n",
      "\n",
      "  lis = BeautifulSoup(html).find_all('li')\n"
     ]
    },
    {
     "name": "stdout",
     "output_type": "stream",
     "text": [
      "\n",
      "Observation: \u001b[36;1m\u001b[1;3mPage: The Boring Company\n",
      "Summary: The Boring Company (TBC) is an American infrastructure, tunnel construction services, and equipment company founded by Elon Musk. TBC was founded as a subsidiary of SpaceX in 2017, and was spun off as a separate corporation in 2018. TBC has completed one tunneling project that is open to the public, as well as multiple test tunnels.\n",
      "In 2018, TBC completed one tunnel for testing in Los Angeles County, California. In 2021, TBC completed the Las Vegas Convention Center (LVCC) Loop, which is a three-station transportation system consisting of 1.7 miles (2.7 km) of tunnels. As of April 2024, a segment to Resorts World Las Vegas is also open, and tunnels to Encore and Westgate resorts are being finalised. The system is planned to expand to a total of 68 miles (109 km) of tunnels in Las Vegas. \n",
      "Many other TBC projects in cities across the United States have been announced, but subsequently were cancelled or became inactive due to a lack of activity from the company.\n",
      "\n",
      "Page: Boring test tunnel\n",
      "Summary: The R&D Tunnel, also called the Hawthorne test tunnel or Boring test tunnel, is a 1.14 miles (1.83 km) tunnel in Hawthorne, California, for testing hyperloop and \"loop-based transportation\". It was completed by The Boring Company in late 2018. The single-bore tunnel was constructed during 2017 and 2018 using a 14-foot (4.2 m) diameter tunnel boring machine, giving a finished 12-foot (3.8 m) internal diameter.\u001b[0m\n",
      "Thought:\u001b[32;1m\u001b[1;3mThought:Question: What is the purpose Elon Musk starting boring company\n",
      "Thought: To understand Elon Musk's motivation for starting The Boring Company, I should look for information about the company's goals and mission. \n",
      "Action: wikipedia\n",
      "Action Input: Elon Musk The Boring Company\u001b[0m\n",
      "Observation: \u001b[36;1m\u001b[1;3mPage: The Boring Company\n",
      "Summary: The Boring Company (TBC) is an American infrastructure, tunnel construction services, and equipment company founded by Elon Musk. TBC was founded as a subsidiary of SpaceX in 2017, and was spun off as a separate corporation in 2018. TBC has completed one tunneling project that is open to the public, as well as multiple test tunnels.\n",
      "In 2018, TBC completed one tunnel for testing in Los Angeles County, California. In 2021, TBC completed the Las Vegas Convention Center (LVCC) Loop, which is a three-station transportation system consisting of 1.7 miles (2.7 km) of tunnels. As of April 2024, a segment to Resorts World Las Vegas is also open, and tunnels to Encore and Westgate resorts are being finalised. The system is planned to expand to a total of 68 miles (109 km) of tunnels in Las Vegas. \n",
      "Many other TBC projects in cities across the United States have been announced, but subsequently were cancelled or became inactive due to a lack of activity from the company.\n",
      "\n",
      "Page: Boring test tunnel\n",
      "Summary: The R&D Tunnel, also called the Hawthorne test tunnel or Boring test tunnel, is a 1.14 miles (1.83 km) tunnel in Hawthorne, California, for testing hyperloop and \"loop-based transportation\". It was completed by The Boring Company in late 2018. The single-bore tunnel was constructed during 2017 and 2018 using a 14-foot (4.2 m) diameter tunnel boring machine, giving a finished 12-foot (3.8 m) internal diameter.\n",
      "\n",
      "Page: Wealth of Elon Musk\n",
      "Summary: Elon Musk is one of the wealthiest people in the world, with an estimated net worth of US $314 billion as of November 2024, according to the Bloomberg Billionaires Index, and $300.3 billion according to Forbes, primarily from his ownership stakes in Tesla, Inc. and SpaceX. In November 2021, he became the first person in the world to have a net worth above $300 billion.\u001b[0m\n",
      "Thought:\u001b[32;1m\u001b[1;3mThought:  Elon Musk has stated his frustration with traffic congestion, and his vision for The Boring Company seems to revolve around alleviating this issue by creating underground transportation systems.  \n",
      "Action: wikipedia\n",
      "Action Input: Elon Musk Traffic Congestion\u001b[0m\n",
      "Observation: \u001b[36;1m\u001b[1;3mPage: The Boring Company\n",
      "Summary: The Boring Company (TBC) is an American infrastructure, tunnel construction services, and equipment company founded by Elon Musk. TBC was founded as a subsidiary of SpaceX in 2017, and was spun off as a separate corporation in 2018. TBC has completed one tunneling project that is open to the public, as well as multiple test tunnels.\n",
      "In 2018, TBC completed one tunnel for testing in Los Angeles County, California. In 2021, TBC completed the Las Vegas Convention Center (LVCC) Loop, which is a three-station transportation system consisting of 1.7 miles (2.7 km) of tunnels. As of April 2024, a segment to Resorts World Las Vegas is also open, and tunnels to Encore and Westgate resorts are being finalised. The system is planned to expand to a total of 68 miles (109 km) of tunnels in Las Vegas. \n",
      "Many other TBC projects in cities across the United States have been announced, but subsequently were cancelled or became inactive due to a lack of activity from the company.\n",
      "\n",
      "Page: Car elevator\n",
      "Summary: A car elevator or vehicle elevator is an elevator designed for the vertical transportation of vehicles inside buildings, so increasing the number of vehicles that can be parked in parking lots and parking garages. Where real estate is costly, these car parking systems can reduce overall costs by using less land to park the same number of cars. \n",
      "Vehicle lifts, which lift a car at its center of gravity, are used in garages and repair shops and are designed to allow access to a car's undercarriage for repair.\n",
      "\n",
      "Page: Transportation in Chicago\n",
      "Summary: Chicago, Illinois, is the third-largest city in the United States and a world transit hub. The area is served by two major airports, numerous highways, elevated/subway local train lines, and city/suburban commuter rail lines; it is the national passenger rail hub for Amtrak routes, and also the main freight rail hub of North America.\n",
      "Surface transportation networks and public ways within the city are the responsibility of the Chicago Department of Transportation. Mass transit in much of the Chicago metropolitan area is managed through the Regional Transportation Authority (RTA), which was installed by a referendum in 1974. The RTA provides transportation services through the funding of three subordinate agencies: the Chicago Transit Authority, Metra, and Pace. Operation of the city's airports is the responsibility of the Chicago Department of Aviation.\u001b[0m\n",
      "Thought:\u001b[32;1m\u001b[1;3mThought:Thought: I still need to find a direct quote from Elon Musk about the purpose of The Boring Company.\n",
      "Action: wikipedia\n",
      "Action Input: Elon Musk The Boring Company\u001b[0m\n",
      "Observation: \u001b[36;1m\u001b[1;3mPage: The Boring Company\n",
      "Summary: The Boring Company (TBC) is an American infrastructure, tunnel construction services, and equipment company founded by Elon Musk. TBC was founded as a subsidiary of SpaceX in 2017, and was spun off as a separate corporation in 2018. TBC has completed one tunneling project that is open to the public, as well as multiple test tunnels.\n",
      "In 2018, TBC completed one tunnel for testing in Los Angeles County, California. In 2021, TBC completed the Las Vegas Convention Center (LVCC) Loop, which is a three-station transportation system consisting of 1.7 miles (2.7 km) of tunnels. As of April 2024, a segment to Resorts World Las Vegas is also open, and tunnels to Encore and Westgate resorts are being finalised. The system is planned to expand to a total of 68 miles (109 km) of tunnels in Las Vegas. \n",
      "Many other TBC projects in cities across the United States have been announced, but subsequently were cancelled or became inactive due to a lack of activity from the company.\n",
      "\n",
      "Page: Boring test tunnel\n",
      "Summary: The R&D Tunnel, also called the Hawthorne test tunnel or Boring test tunnel, is a 1.14 miles (1.83 km) tunnel in Hawthorne, California, for testing hyperloop and \"loop-based transportation\". It was completed by The Boring Company in late 2018. The single-bore tunnel was constructed during 2017 and 2018 using a 14-foot (4.2 m) diameter tunnel boring machine, giving a finished 12-foot (3.8 m) internal diameter.\n",
      "\n",
      "Page: Wealth of Elon Musk\n",
      "Summary: Elon Musk is one of the wealthiest people in the world, with an estimated net worth of US $314 billion as of November 2024, according to the Bloomberg Billionaires Index, and $300.3 billion according to Forbes, primarily from his ownership stakes in Tesla, Inc. and SpaceX. In November 2021, he became the first person in the world to have a net worth above $300 billion.\u001b[0m\n",
      "Thought:\u001b[32;1m\u001b[1;3mThought:  I still need to find a direct quote from Elon Musk about the purpose of The Boring Company.\n",
      "Action: wikipedia\n",
      "Action Input: Elon Musk Boring Company\u001b[0m\n",
      "Observation: \u001b[36;1m\u001b[1;3mPage: The Boring Company\n",
      "Summary: The Boring Company (TBC) is an American infrastructure, tunnel construction services, and equipment company founded by Elon Musk. TBC was founded as a subsidiary of SpaceX in 2017, and was spun off as a separate corporation in 2018. TBC has completed one tunneling project that is open to the public, as well as multiple test tunnels.\n",
      "In 2018, TBC completed one tunnel for testing in Los Angeles County, California. In 2021, TBC completed the Las Vegas Convention Center (LVCC) Loop, which is a three-station transportation system consisting of 1.7 miles (2.7 km) of tunnels. As of April 2024, a segment to Resorts World Las Vegas is also open, and tunnels to Encore and Westgate resorts are being finalised. The system is planned to expand to a total of 68 miles (109 km) of tunnels in Las Vegas. \n",
      "Many other TBC projects in cities across the United States have been announced, but subsequently were cancelled or became inactive due to a lack of activity from the company.\n",
      "\n",
      "Page: Wealth of Elon Musk\n",
      "Summary: Elon Musk is one of the wealthiest people in the world, with an estimated net worth of US $314 billion as of November 2024, according to the Bloomberg Billionaires Index, and $300.3 billion according to Forbes, primarily from his ownership stakes in Tesla, Inc. and SpaceX. In November 2021, he became the first person in the world to have a net worth above $300 billion.\n",
      "\n",
      "Page: Power Play: Tesla, Elon Musk, and the Bet of the Century\n",
      "Summary: Power Play: Tesla, Elon Musk, and the Bet of the Century is Tim Higgins's book about Tesla, Inc., published in 2021, that focuses on the company while under the management of Elon Musk. The book does not contain any interviews with Musk himself, but many anonymous current and former executives from Tesla. In response to the book in general, Musk tweeted \"Higgins managed to make his book both false *and* boring\".\u001b[0m\n",
      "Thought:\u001b[32;1m\u001b[1;3mThought: I still need to find a direct quote from Elon Musk about the purpose of The Boring Company.\n",
      "Action: wikipedia\n",
      "Action Input: Elon Musk Boring Company\u001b[0m\n",
      "Observation: \u001b[36;1m\u001b[1;3mPage: The Boring Company\n",
      "Summary: The Boring Company (TBC) is an American infrastructure, tunnel construction services, and equipment company founded by Elon Musk. TBC was founded as a subsidiary of SpaceX in 2017, and was spun off as a separate corporation in 2018. TBC has completed one tunneling project that is open to the public, as well as multiple test tunnels.\n",
      "In 2018, TBC completed one tunnel for testing in Los Angeles County, California. In 2021, TBC completed the Las Vegas Convention Center (LVCC) Loop, which is a three-station transportation system consisting of 1.7 miles (2.7 km) of tunnels. As of April 2024, a segment to Resorts World Las Vegas is also open, and tunnels to Encore and Westgate resorts are being finalised. The system is planned to expand to a total of 68 miles (109 km) of tunnels in Las Vegas. \n",
      "Many other TBC projects in cities across the United States have been announced, but subsequently were cancelled or became inactive due to a lack of activity from the company.\n",
      "\n",
      "Page: Wealth of Elon Musk\n",
      "Summary: Elon Musk is one of the wealthiest people in the world, with an estimated net worth of US $314 billion as of November 2024, according to the Bloomberg Billionaires Index, and $300.3 billion according to Forbes, primarily from his ownership stakes in Tesla, Inc. and SpaceX. In November 2021, he became the first person in the world to have a net worth above $300 billion.\n",
      "\n",
      "Page: Power Play: Tesla, Elon Musk, and the Bet of the Century\n",
      "Summary: Power Play: Tesla, Elon Musk, and the Bet of the Century is Tim Higgins's book about Tesla, Inc., published in 2021, that focuses on the company while under the management of Elon Musk. The book does not contain any interviews with Musk himself, but many anonymous current and former executives from Tesla. In response to the book in general, Musk tweeted \"Higgins managed to make his book both false *and* boring\".\u001b[0m\n",
      "Thought:"
     ]
    }
   ],
   "source": [
    "agent.run(\"What is the purpose Elon Musk starting boring company\")"
   ]
  },
  {
   "cell_type": "code",
   "execution_count": 1,
   "metadata": {},
   "outputs": [],
   "source": [
    "from langchain_community.tools.tavily_search import TavilySearchResults"
   ]
  },
  {
   "cell_type": "code",
   "execution_count": 2,
   "metadata": {},
   "outputs": [],
   "source": [
    "search = TavilySearchResults()"
   ]
  },
  {
   "cell_type": "code",
   "execution_count": 3,
   "metadata": {},
   "outputs": [
    {
     "data": {
      "text/plain": [
       "[{'url': 'https://www.weatherapi.com/',\n",
       "  'content': \"{'location': {'name': 'Worcester', 'region': 'Massachusetts', 'country': 'United States of America', 'lat': 42.2625, 'lon': -71.8028, 'tz_id': 'America/New_York', 'localtime_epoch': 1731700974, 'localtime': '2024-11-15 15:02'}, 'current': {'last_updated_epoch': 1731700800, 'last_updated': '2024-11-15 15:00', 'temp_c': 12.8, 'temp_f': 55.0, 'is_day': 1, 'condition': {'text': 'Sunny', 'icon': '//cdn.weatherapi.com/weather/64x64/day/113.png', 'code': 1000}, 'wind_mph': 11.0, 'wind_kph': 17.6, 'wind_degree': 328, 'wind_dir': 'NNW', 'pressure_mb': 1005.0, 'pressure_in': 29.69, 'precip_mm': 0.0, 'precip_in': 0.0, 'humidity': 16, 'cloud': 0, 'feelslike_c': 11.1, 'feelslike_f': 52.0, 'windchill_c': 8.6, 'windchill_f': 47.5, 'heatindex_c': 10.6, 'heatindex_f': 51.1, 'dewpoint_c': -7.8, 'dewpoint_f': 18.0, 'vis_km': 16.0, 'vis_miles': 9.0, 'uv': 0.5, 'gust_mph': 12.6, 'gust_kph': 20.3}}\"},\n",
       " {'url': 'https://forecast.weather.gov/MapClick.php?lat=42.453895000000045&lon=-73.24860499999994',\n",
       "  'content': 'Pittsfield MA 42.46°N 73.26°W (Elev. 997 ft) Last Update: 10:15 pm EST Nov 14, 2024. Forecast Valid: 12am EST Nov 15, 2024-6pm EST Nov 21, 2024 . Forecast Discussion . Additional Resources. Radar & Satellite Image. Hourly Weather Forecast. ... Severe Weather ; Current Outlook Maps ; Drought ; Fire Weather ; Fronts/Precipitation Maps ; Current'},\n",
       " {'url': 'https://forecast.weather.gov/MapClick.php?lat=42.43&lon=-72.1',\n",
       "  'content': 'Barre MA 42.43°N 72.1°W (Elev. 899 ft) Last Update: 4:18 pm EST Nov 8, 2024. Forecast Valid: 7pm EST Nov 8, 2024-6pm EST Nov 15, 2024 . Forecast Discussion . Additional Resources. Radar & Satellite Image. Hourly Weather Forecast. ... Severe Weather ; Current Outlook Maps ; Drought ; Fire Weather ; Fronts/Precipitation Maps ; Current Graphical'},\n",
       " {'url': 'https://westernmassweather.com/western-mass-regional-weather-for-november-15-2024/',\n",
       "  'content': \"[7:12AM FRI 11/15/24] RED FLAG WARNINGS ARE UP TODAY FOR THE ENTIRE GREATER WMASS REGION… DON'T BURN STUFF OUTSIDE… NORTHWEST WIND GUST 15-25MPH AS THE DAY WEARS ON… ANY SUNRISE PICS? GORGEOUS WEEKEND AHEAD, MILDER, SUNNY… A FEW MONDAY MORNING SHOWERS, THEN FAIR WEATHER INTO MID-WEEK… POTENTIAL PATTERN CHANGE LATE WEEK WITH WET\"},\n",
       " {'url': 'https://www.weathertab.com/en/d/e/11/united-states/massachusetts/boston/',\n",
       "  'content': 'Our Boston, Massachusetts Daily Weather Forecast for November 2024, developed from a specialized dynamic long-range model, provides precise daily temperature and rainfall predictions. This model, distinct from standard statistical or climatological approaches, is the result of over 50 years of dedicated private research, offering a clearer and'}]"
      ]
     },
     "execution_count": 3,
     "metadata": {},
     "output_type": "execute_result"
    }
   ],
   "source": [
    "search.invoke(\"What is the weather in Massachussets\")"
   ]
  },
  {
   "cell_type": "code",
   "execution_count": 4,
   "metadata": {},
   "outputs": [],
   "source": [
    "tools = [search]\n"
   ]
  },
  {
   "cell_type": "code",
   "execution_count": 5,
   "metadata": {},
   "outputs": [],
   "source": [
    "from langchain import hub\n",
    "prompt = hub.pull(\"hwchase17/openai-functions-agent\")"
   ]
  },
  {
   "cell_type": "code",
   "execution_count": 7,
   "metadata": {},
   "outputs": [
    {
     "data": {
      "text/plain": [
       "[SystemMessagePromptTemplate(prompt=PromptTemplate(input_variables=[], input_types={}, partial_variables={}, template='You are a helpful assistant'), additional_kwargs={}),\n",
       " MessagesPlaceholder(variable_name='chat_history', optional=True),\n",
       " HumanMessagePromptTemplate(prompt=PromptTemplate(input_variables=['input'], input_types={}, partial_variables={}, template='{input}'), additional_kwargs={}),\n",
       " MessagesPlaceholder(variable_name='agent_scratchpad')]"
      ]
     },
     "execution_count": 7,
     "metadata": {},
     "output_type": "execute_result"
    }
   ],
   "source": [
    "prompt.messages"
   ]
  },
  {
   "cell_type": "code",
   "execution_count": 8,
   "metadata": {},
   "outputs": [],
   "source": [
    "from langchain.agents import create_tool_calling_agent\n"
   ]
  },
  {
   "cell_type": "code",
   "execution_count": 11,
   "metadata": {},
   "outputs": [],
   "source": [
    "agent = create_tool_calling_agent(llm, tools, prompt)"
   ]
  },
  {
   "cell_type": "code",
   "execution_count": 13,
   "metadata": {},
   "outputs": [],
   "source": [
    "from langchain.agents import AgentExecutor\n",
    "agent_executor = AgentExecutor(agent=agent, tools=tools, verbose=True)"
   ]
  },
  {
   "cell_type": "code",
   "execution_count": null,
   "metadata": {},
   "outputs": [
    {
     "name": "stdout",
     "output_type": "stream",
     "text": [
      "\n",
      "\n",
      "\u001b[1m> Entering new AgentExecutor chain...\u001b[0m\n",
      "\u001b[32;1m\u001b[1;3mWhat can I do for you?  \n",
      "\u001b[0m\n",
      "\n",
      "\u001b[1m> Finished chain.\u001b[0m\n"
     ]
    },
    {
     "data": {
      "text/plain": [
       "{'input': 'hello ', 'output': 'What can I do for you?  \\n'}"
      ]
     },
     "execution_count": 14,
     "metadata": {},
     "output_type": "execute_result"
    }
   ],
   "source": [
    "agent_executor.invoke({\"input\": \"hello \"})"
   ]
  },
  {
   "cell_type": "code",
   "execution_count": 15,
   "metadata": {},
   "outputs": [
    {
     "name": "stdout",
     "output_type": "stream",
     "text": [
      "\n",
      "\n",
      "\u001b[1m> Entering new AgentExecutor chain...\u001b[0m\n",
      "\u001b[32;1m\u001b[1;3m\n",
      "Invoking: `tavily_search_results_json` with `{'query': 'elon musk son name'}`\n",
      "\n",
      "\n",
      "\u001b[0m\u001b[36;1m\u001b[1;3m[{'url': 'https://www.youtube.com/watch?v=foajvutDRpU', 'content': \"Elon Musk reveals how to pronounce his son's name, which is a combination of the letters X, Æ and A-12. He also credits his partner Grimes for coming up with the idea of the name.\"}, {'url': 'https://www.bbc.co.uk/news/world-us-canada-52557291', 'content': 'Elon Musk and singer Grimes have confirmed they have named their baby X Æ A-12. The Space X CEO announced the birth of their son on Monday. \"Mom & baby all good,\" he said on Twitter.'}, {'url': 'https://people.com/parents/elon-musk-explains-how-to-correctly-pronounce-his-son-x-ae-a-12s-name/', 'content': 'Elon Musk and Grimes named their baby boy X Æ A-12, with the former contributing the A-12 part inspired by a spy plane. Learn how to say X Æ A-12 and why it may not be accepted by California as a valid name.'}, {'url': 'https://www.independent.co.uk/life-style/elon-musk-baby-x-ea-a-12-name-meaning-b2381092.html', 'content': 'Grimes reveals the meaning behind the unusual name of her son with Elon Musk, which includes references to their favourite aircraft, SR-17, and the elven spelling of AI. The name has baffled the internet and sparked questions about its pronunciation and origin.'}, {'url': 'https://www.today.com/parents/elon-musk-reveals-how-pronounce-name-newborn-son-x-12-t181087', 'content': 'Musician Grimes and tech mogul Elon Musk have garnered a lot of attention since revealing the name of their newborn son, X Æ A-12. Taylor Hill / Getty Images May 8, 2020, 12:26 PM UTC / Source'}]\u001b[0m\u001b[32;1m\u001b[1;3mElon Musk's son's name is X Æ A-12. \n",
      "\u001b[0m\n",
      "\n",
      "\u001b[1m> Finished chain.\u001b[0m\n"
     ]
    },
    {
     "data": {
      "text/plain": [
       "{'input': 'What is the name the son of elon musk ',\n",
       " 'output': \"Elon Musk's son's name is X Æ A-12. \\n\"}"
      ]
     },
     "execution_count": 15,
     "metadata": {},
     "output_type": "execute_result"
    }
   ],
   "source": [
    "agent_executor.invoke({\"input\": \"What is the name the son of elon musk \"})"
   ]
  },
  {
   "cell_type": "code",
   "execution_count": null,
   "metadata": {},
   "outputs": [],
   "source": []
  }
 ],
 "metadata": {
  "kernelspec": {
   "display_name": "Python 3",
   "language": "python",
   "name": "python3"
  },
  "language_info": {
   "codemirror_mode": {
    "name": "ipython",
    "version": 3
   },
   "file_extension": ".py",
   "mimetype": "text/x-python",
   "name": "python",
   "nbconvert_exporter": "python",
   "pygments_lexer": "ipython3",
   "version": "3.10.15"
  }
 },
 "nbformat": 4,
 "nbformat_minor": 2
}
